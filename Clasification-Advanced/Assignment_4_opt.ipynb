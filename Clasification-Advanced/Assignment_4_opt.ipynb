{
 "cells": [
  {
   "cell_type": "markdown",
   "source": [
    "# About Dataset\n",
    "The dataset includes 42,000 reviews of 3 Disneyland branches - Paris, California and Hong Kong, posted by visitors on Trip Advisor.\n",
    "\n",
    "Column Description:\n",
    "\n",
    "Review_ID: unique id given to each review\n",
    "Rating: ranging from 1 (unsatisfied) to 5 (satisfied)\n",
    "Year_Month: when the reviewer visited the theme park\n",
    "Reviewer_Location: country of origin of visitor\n",
    "Review_Text: comments made by visitor\n",
    "Disneyland_Branch: location of Disneyland Park"
   ],
   "metadata": {
    "collapsed": false
   }
  },
  {
   "cell_type": "code",
   "execution_count": 9,
   "outputs": [
    {
     "data": {
      "text/plain": "   Review_ID  Rating Year_Month     Reviewer_Location  \\\n0  670772142       4     2019-4             Australia   \n1  670682799       4     2019-5           Philippines   \n2  670623270       4     2019-4  United Arab Emirates   \n3  670607911       4     2019-4             Australia   \n4  670607296       4     2019-4        United Kingdom   \n5  670591897       3     2019-4             Singapore   \n6  670585330       5     2019-4                 India   \n7  670574142       3     2019-3              Malaysia   \n8  670571027       2     2019-4             Australia   \n9  670570869       5     2019-3                 India   \n\n                                         Review_Text               Branch  \n0  If you've ever been to Disneyland anywhere you...  Disneyland_HongKong  \n1  Its been a while since d last time we visit HK...  Disneyland_HongKong  \n2  Thanks God it wasn   t too hot or too humid wh...  Disneyland_HongKong  \n3  HK Disneyland is a great compact park. Unfortu...  Disneyland_HongKong  \n4  the location is not in the city, took around 1...  Disneyland_HongKong  \n5  Have been to Disney World, Disneyland Anaheim ...  Disneyland_HongKong  \n6  Great place! Your day will go by and you won't...  Disneyland_HongKong  \n7  Think of it as an intro to Disney magic for th...  Disneyland_HongKong  \n8  Feel so let down with this place,the Disneylan...  Disneyland_HongKong  \n9  I can go on talking about Disneyland. Whatever...  Disneyland_HongKong  ",
      "text/html": "<div>\n<style scoped>\n    .dataframe tbody tr th:only-of-type {\n        vertical-align: middle;\n    }\n\n    .dataframe tbody tr th {\n        vertical-align: top;\n    }\n\n    .dataframe thead th {\n        text-align: right;\n    }\n</style>\n<table border=\"1\" class=\"dataframe\">\n  <thead>\n    <tr style=\"text-align: right;\">\n      <th></th>\n      <th>Review_ID</th>\n      <th>Rating</th>\n      <th>Year_Month</th>\n      <th>Reviewer_Location</th>\n      <th>Review_Text</th>\n      <th>Branch</th>\n    </tr>\n  </thead>\n  <tbody>\n    <tr>\n      <th>0</th>\n      <td>670772142</td>\n      <td>4</td>\n      <td>2019-4</td>\n      <td>Australia</td>\n      <td>If you've ever been to Disneyland anywhere you...</td>\n      <td>Disneyland_HongKong</td>\n    </tr>\n    <tr>\n      <th>1</th>\n      <td>670682799</td>\n      <td>4</td>\n      <td>2019-5</td>\n      <td>Philippines</td>\n      <td>Its been a while since d last time we visit HK...</td>\n      <td>Disneyland_HongKong</td>\n    </tr>\n    <tr>\n      <th>2</th>\n      <td>670623270</td>\n      <td>4</td>\n      <td>2019-4</td>\n      <td>United Arab Emirates</td>\n      <td>Thanks God it wasn   t too hot or too humid wh...</td>\n      <td>Disneyland_HongKong</td>\n    </tr>\n    <tr>\n      <th>3</th>\n      <td>670607911</td>\n      <td>4</td>\n      <td>2019-4</td>\n      <td>Australia</td>\n      <td>HK Disneyland is a great compact park. Unfortu...</td>\n      <td>Disneyland_HongKong</td>\n    </tr>\n    <tr>\n      <th>4</th>\n      <td>670607296</td>\n      <td>4</td>\n      <td>2019-4</td>\n      <td>United Kingdom</td>\n      <td>the location is not in the city, took around 1...</td>\n      <td>Disneyland_HongKong</td>\n    </tr>\n    <tr>\n      <th>5</th>\n      <td>670591897</td>\n      <td>3</td>\n      <td>2019-4</td>\n      <td>Singapore</td>\n      <td>Have been to Disney World, Disneyland Anaheim ...</td>\n      <td>Disneyland_HongKong</td>\n    </tr>\n    <tr>\n      <th>6</th>\n      <td>670585330</td>\n      <td>5</td>\n      <td>2019-4</td>\n      <td>India</td>\n      <td>Great place! Your day will go by and you won't...</td>\n      <td>Disneyland_HongKong</td>\n    </tr>\n    <tr>\n      <th>7</th>\n      <td>670574142</td>\n      <td>3</td>\n      <td>2019-3</td>\n      <td>Malaysia</td>\n      <td>Think of it as an intro to Disney magic for th...</td>\n      <td>Disneyland_HongKong</td>\n    </tr>\n    <tr>\n      <th>8</th>\n      <td>670571027</td>\n      <td>2</td>\n      <td>2019-4</td>\n      <td>Australia</td>\n      <td>Feel so let down with this place,the Disneylan...</td>\n      <td>Disneyland_HongKong</td>\n    </tr>\n    <tr>\n      <th>9</th>\n      <td>670570869</td>\n      <td>5</td>\n      <td>2019-3</td>\n      <td>India</td>\n      <td>I can go on talking about Disneyland. Whatever...</td>\n      <td>Disneyland_HongKong</td>\n    </tr>\n  </tbody>\n</table>\n</div>"
     },
     "execution_count": 9,
     "metadata": {},
     "output_type": "execute_result"
    }
   ],
   "source": [
    "import pandas as pd\n",
    "import numpy as np\n",
    "import matplotlib.pyplot as plt\n",
    "import string\n",
    "from sklearn.linear_model import LogisticRegression\n",
    "\n",
    "def remove_punctuation(text):\n",
    "    import string\n",
    "    translator = str.maketrans('', '', string.punctuation)\n",
    "    return text.translate(translator)\n",
    "\n",
    "baby_df = pd.read_csv('DisneylandReviews.csv', encoding='latin-1', index_col=False)\n",
    "baby_df.head(10)"
   ],
   "metadata": {
    "collapsed": false
   }
  },
  {
   "cell_type": "code",
   "execution_count": 10,
   "outputs": [
    {
     "data": {
      "text/plain": "False"
     },
     "execution_count": 10,
     "metadata": {},
     "output_type": "execute_result"
    }
   ],
   "source": [
    "baby_df['Review_Text'].isnull().values.any()"
   ],
   "metadata": {
    "collapsed": false
   }
  },
  {
   "cell_type": "code",
   "execution_count": 14,
   "outputs": [
    {
     "data": {
      "text/plain": "Review_ID             int64\nRating                int64\nYear_Month           object\nReviewer_Location    object\nReview_Text          object\nBranch               object\ndtype: object"
     },
     "execution_count": 14,
     "metadata": {},
     "output_type": "execute_result"
    }
   ],
   "source": [
    "baby_df.dtypes"
   ],
   "metadata": {
    "collapsed": false
   }
  },
  {
   "cell_type": "code",
   "execution_count": 5,
   "outputs": [],
   "source": [
    "baby_df['Review_Text']=baby_df['Review_Text'].astype(str)"
   ],
   "metadata": {
    "collapsed": false
   }
  },
  {
   "cell_type": "code",
   "execution_count": 8,
   "outputs": [
    {
     "data": {
      "text/plain": "True"
     },
     "execution_count": 8,
     "metadata": {},
     "output_type": "execute_result"
    }
   ],
   "source": [
    "baby_df[\"Review_Text\"].replace(np.nan, \"\", inplace=True)\n",
    "#short test:\n",
    "baby_df[\"Review_Text\"][24] == baby_df[\"Review_Text\"][24]"
   ],
   "metadata": {
    "collapsed": false
   }
  },
  {
   "cell_type": "code",
   "execution_count": 15,
   "outputs": [
    {
     "data": {
      "text/plain": "'the location is not in the city took around 1 hour from Kowlon my kids like disneyland so much everything is fine   but its really crowded and hot in Hong Kong'"
     },
     "execution_count": 15,
     "metadata": {},
     "output_type": "execute_result"
    }
   ],
   "source": [
    "baby_df[\"Review_Text\"] = baby_df[\"Review_Text\"].apply(remove_punctuation)\n",
    "baby_df['Review_Text'][4]"
   ],
   "metadata": {
    "collapsed": false
   }
  },
  {
   "cell_type": "code",
   "execution_count": 17,
   "outputs": [
    {
     "data": {
      "text/plain": "0"
     },
     "execution_count": 17,
     "metadata": {},
     "output_type": "execute_result"
    }
   ],
   "source": [
    "a = 0\n",
    "for x in baby_df[\"Rating\"]:\n",
    "\n",
    "    if x == 3:\n",
    "        baby_df.drop(index = a, inplace = True, axis=0)\n",
    "        a=a+1\n",
    "    else:\n",
    "        a=a+1\n",
    "        continue\n",
    "\n",
    "sum(baby_df[\"Rating\"] == 3)"
   ],
   "metadata": {
    "collapsed": false
   }
  },
  {
   "cell_type": "code",
   "execution_count": 18,
   "outputs": [
    {
     "data": {
      "text/plain": "0"
     },
     "execution_count": 18,
     "metadata": {},
     "output_type": "execute_result"
    }
   ],
   "source": [
    "baby_df[\"Rating\"].replace(1,-1, inplace = True)\n",
    "baby_df[\"Rating\"].replace(4,1, inplace = True)\n",
    "baby_df[\"Rating\"].replace(5,1, inplace = True)\n",
    "baby_df[\"Rating\"].replace(2,-1, inplace = True)\n",
    "sum(baby_df[\"Rating\"]**2 != 1)"
   ],
   "metadata": {
    "collapsed": false
   }
  },
  {
   "cell_type": "code",
   "execution_count": 20,
   "outputs": [],
   "source": [
    "from sklearn.model_selection import train_test_split\n",
    "from sklearn.feature_extraction.text import CountVectorizer\n",
    "train, test = train_test_split(baby_df, train_size=0.8, test_size=0.2)"
   ],
   "metadata": {
    "collapsed": false
   }
  },
  {
   "cell_type": "code",
   "execution_count": 22,
   "outputs": [],
   "source": [
    "vectorizer = CountVectorizer()\n",
    "x = vectorizer.fit_transform(list(train[\"Review_Text\"]))\n",
    "y = train[\"Rating\"]\n",
    "x_test = vectorizer.transform(list(test[\"Review_Text\"]))\n",
    "y_test = test[\"Rating\"]"
   ],
   "metadata": {
    "collapsed": false
   }
  },
  {
   "cell_type": "code",
   "execution_count": 23,
   "outputs": [
    {
     "name": "stderr",
     "output_type": "stream",
     "text": [
      "C:\\Users\\User\\PycharmProjects\\Data-Science\\venv\\lib\\site-packages\\sklearn\\linear_model\\_logistic.py:460: ConvergenceWarning: lbfgs failed to converge (status=1):\n",
      "STOP: TOTAL NO. of ITERATIONS REACHED LIMIT.\n",
      "\n",
      "Increase the number of iterations (max_iter) or scale the data as shown in:\n",
      "    https://scikit-learn.org/stable/modules/preprocessing.html\n",
      "Please also refer to the documentation for alternative solver options:\n",
      "    https://scikit-learn.org/stable/modules/linear_model.html#logistic-regression\n",
      "  n_iter_i = _check_optimize_result(\n"
     ]
    },
    {
     "data": {
      "text/plain": "LogisticRegression(max_iter=200)",
      "text/html": "<style>#sk-container-id-1 {color: black;}#sk-container-id-1 pre{padding: 0;}#sk-container-id-1 div.sk-toggleable {background-color: white;}#sk-container-id-1 label.sk-toggleable__label {cursor: pointer;display: block;width: 100%;margin-bottom: 0;padding: 0.3em;box-sizing: border-box;text-align: center;}#sk-container-id-1 label.sk-toggleable__label-arrow:before {content: \"▸\";float: left;margin-right: 0.25em;color: #696969;}#sk-container-id-1 label.sk-toggleable__label-arrow:hover:before {color: black;}#sk-container-id-1 div.sk-estimator:hover label.sk-toggleable__label-arrow:before {color: black;}#sk-container-id-1 div.sk-toggleable__content {max-height: 0;max-width: 0;overflow: hidden;text-align: left;background-color: #f0f8ff;}#sk-container-id-1 div.sk-toggleable__content pre {margin: 0.2em;color: black;border-radius: 0.25em;background-color: #f0f8ff;}#sk-container-id-1 input.sk-toggleable__control:checked~div.sk-toggleable__content {max-height: 200px;max-width: 100%;overflow: auto;}#sk-container-id-1 input.sk-toggleable__control:checked~label.sk-toggleable__label-arrow:before {content: \"▾\";}#sk-container-id-1 div.sk-estimator input.sk-toggleable__control:checked~label.sk-toggleable__label {background-color: #d4ebff;}#sk-container-id-1 div.sk-label input.sk-toggleable__control:checked~label.sk-toggleable__label {background-color: #d4ebff;}#sk-container-id-1 input.sk-hidden--visually {border: 0;clip: rect(1px 1px 1px 1px);clip: rect(1px, 1px, 1px, 1px);height: 1px;margin: -1px;overflow: hidden;padding: 0;position: absolute;width: 1px;}#sk-container-id-1 div.sk-estimator {font-family: monospace;background-color: #f0f8ff;border: 1px dotted black;border-radius: 0.25em;box-sizing: border-box;margin-bottom: 0.5em;}#sk-container-id-1 div.sk-estimator:hover {background-color: #d4ebff;}#sk-container-id-1 div.sk-parallel-item::after {content: \"\";width: 100%;border-bottom: 1px solid gray;flex-grow: 1;}#sk-container-id-1 div.sk-label:hover label.sk-toggleable__label {background-color: #d4ebff;}#sk-container-id-1 div.sk-serial::before {content: \"\";position: absolute;border-left: 1px solid gray;box-sizing: border-box;top: 0;bottom: 0;left: 50%;z-index: 0;}#sk-container-id-1 div.sk-serial {display: flex;flex-direction: column;align-items: center;background-color: white;padding-right: 0.2em;padding-left: 0.2em;position: relative;}#sk-container-id-1 div.sk-item {position: relative;z-index: 1;}#sk-container-id-1 div.sk-parallel {display: flex;align-items: stretch;justify-content: center;background-color: white;position: relative;}#sk-container-id-1 div.sk-item::before, #sk-container-id-1 div.sk-parallel-item::before {content: \"\";position: absolute;border-left: 1px solid gray;box-sizing: border-box;top: 0;bottom: 0;left: 50%;z-index: -1;}#sk-container-id-1 div.sk-parallel-item {display: flex;flex-direction: column;z-index: 1;position: relative;background-color: white;}#sk-container-id-1 div.sk-parallel-item:first-child::after {align-self: flex-end;width: 50%;}#sk-container-id-1 div.sk-parallel-item:last-child::after {align-self: flex-start;width: 50%;}#sk-container-id-1 div.sk-parallel-item:only-child::after {width: 0;}#sk-container-id-1 div.sk-dashed-wrapped {border: 1px dashed gray;margin: 0 0.4em 0.5em 0.4em;box-sizing: border-box;padding-bottom: 0.4em;background-color: white;}#sk-container-id-1 div.sk-label label {font-family: monospace;font-weight: bold;display: inline-block;line-height: 1.2em;}#sk-container-id-1 div.sk-label-container {text-align: center;}#sk-container-id-1 div.sk-container {/* jupyter's `normalize.less` sets `[hidden] { display: none; }` but bootstrap.min.css set `[hidden] { display: none !important; }` so we also need the `!important` here to be able to override the default hidden behavior on the sphinx rendered scikit-learn.org. See: https://github.com/scikit-learn/scikit-learn/issues/21755 */display: inline-block !important;position: relative;}#sk-container-id-1 div.sk-text-repr-fallback {display: none;}</style><div id=\"sk-container-id-1\" class=\"sk-top-container\"><div class=\"sk-text-repr-fallback\"><pre>LogisticRegression(max_iter=200)</pre><b>In a Jupyter environment, please rerun this cell to show the HTML representation or trust the notebook. <br />On GitHub, the HTML representation is unable to render, please try loading this page with nbviewer.org.</b></div><div class=\"sk-container\" hidden><div class=\"sk-item\"><div class=\"sk-estimator sk-toggleable\"><input class=\"sk-toggleable__control sk-hidden--visually\" id=\"sk-estimator-id-1\" type=\"checkbox\" checked><label for=\"sk-estimator-id-1\" class=\"sk-toggleable__label sk-toggleable__label-arrow\">LogisticRegression</label><div class=\"sk-toggleable__content\"><pre>LogisticRegression(max_iter=200)</pre></div></div></div></div></div>"
     },
     "execution_count": 23,
     "metadata": {},
     "output_type": "execute_result"
    }
   ],
   "source": [
    "model = LogisticRegression(max_iter=200)\n",
    "model.fit(x, y)"
   ],
   "metadata": {
    "collapsed": false
   }
  },
  {
   "cell_type": "code",
   "execution_count": 24,
   "outputs": [
    {
     "name": "stdout",
     "output_type": "stream",
     "text": [
      "Most positive words:  ['plenty' 'lovely' 'perfect' 'blast' 'wonderful' 'fantastic' 'downside'\n",
      " 'longest' 'loved' 'amazing']\n",
      "Most negative words:  ['worse' 'overcrowded' 'waste' 'boring' 'disappointing' 'miserable' 'poor'\n",
      " 'worst' 'supposed' 'filthy']\n"
     ]
    }
   ],
   "source": [
    "zipped_coef = list(zip(list(range(model.coef_.shape[1])), model.coef_[0]))\n",
    "sorted_coef = sorted(zipped_coef, key= lambda v: v[1])\n",
    "sorted_coef = np.array(sorted_coef)\n",
    "sorted_coef_indexes = sorted_coef[:, 0].astype(int)\n",
    "words = np.array(vectorizer.get_feature_names_out())\n",
    "most_positive_words = words[sorted_coef_indexes[-10:]]\n",
    "most_negative_words = words[sorted_coef_indexes[:10]]\n",
    "print(\"Most positive words: \", most_positive_words)\n",
    "print(\"Most negative words: \", most_negative_words)"
   ],
   "metadata": {
    "collapsed": false
   }
  },
  {
   "cell_type": "code",
   "execution_count": 25,
   "outputs": [
    {
     "data": {
      "text/plain": "array([1, 1, 1, ..., 1, 1, 1], dtype=int64)"
     },
     "execution_count": 25,
     "metadata": {},
     "output_type": "execute_result"
    }
   ],
   "source": [
    "model.predict(x_test)"
   ],
   "metadata": {
    "collapsed": false
   }
  },
  {
   "cell_type": "code",
   "execution_count": 26,
   "outputs": [
    {
     "data": {
      "text/plain": "array([[3.62729281e-01, 6.37270719e-01],\n       [2.89999746e-01, 7.10000254e-01],\n       [5.31434652e-09, 9.99999995e-01],\n       ...,\n       [7.05444198e-04, 9.99294556e-01],\n       [1.89503685e-03, 9.98104963e-01],\n       [3.19828612e-04, 9.99680171e-01]])"
     },
     "execution_count": 26,
     "metadata": {},
     "output_type": "execute_result"
    }
   ],
   "source": [
    "probabilty = model.predict_proba(x_test)\n",
    "probabilty"
   ],
   "metadata": {
    "collapsed": false
   }
  },
  {
   "cell_type": "code",
   "execution_count": 30,
   "outputs": [
    {
     "name": "stdout",
     "output_type": "stream",
     "text": [
      "Most positive:  My family of four with 2 adults and a 16  21 year old visited Disneyland park July 23   27 We purchased a 4 day hopper passWe usually go to the Disney world Resort in Orlando With that said we did enjoy our time at the park When we were there the park was open from 8 am   12am everyday They did have magic mornings with entry at 7am however we did not go that early Disneys California Adventure park hours were 8 am   10 pmThey do have security to enter the park however they only had 2 areas that you could enter and there was a very long line every day at all hours of the day to enter They check your bags and even if you dont have a bag still have to wait in the long line to enter They dont have a line for people with no bags One you have your bags checked they you go through the medal detectors Once you go through the security you are in a big courtyard like area this is the area between the two parks and Downtown Disney You can then proceed to the park you want to go to and just have your ticket scanned If you want to go from one park to the other you dont have to go back through security however if you go out of the park or to downtown Disney you have to go back through securityBoth parks are very condensed If you have been to Disney World you will enjoy less walking however because of that it gets very crowded We had a 4 day hopper however I dont really think we needed that many days to do both parks I think it depends on the time of year you go and the crowd levels Because it was so crowded we spent a lot of time in lines so it was nice to have the 4 days because we literally did every ride in both parks But we were able to take it a little easy because we had the timeOnce inside the park you are on Main street When we were there the park was extremely crowded with ride wait times of about 60 minutes or more for the most popular rides One huge downside is that most of the rides are outside unlike Disney world and there is very little shade They do have fast pass available but you have to go to the kiosk to get your fast pass and if you dont get them early for the popular rides they do run out Some of the rides are the same as Disney world but there are some different We enjoyed the Indiana Jones ride  similar to the Dinosaur ride in Disney world They have the Matterhorn Bobsled ride was cool but knocks you around pretty much Hyperspace Mountain was very cool It had a Star Wars theme inside the ride You can walk up through Snow Whites Castle which was pretty cool We loved the new Soarin around the world and the California Screaming ride as well as the Radiator Springs Racers extremely cool  Kind of like Test Track from Epcot The lines were over an hour wait but we did single rider and only waited about 10 minutes each time the regular line was about 75   80 minutes The fireworks at the Disneyland park were fantastic however the World of Color Show was fa nominal It was so much better than the lazer light show in Epcot I would suggest getting a fastpass for the early show or waiting for the 1015pm showWe couldnt get a good spot for the early show so we stayed for the 10 oclock show and stood on the bridge and had a perfect view It was fantastic Dont miss it As for food we made reservations at the Blue Bayou Restaurant which is inside the Pirates of the Caribbean ride The atmosphere is very neat Dark with overhead lanterns to mimic being outside at night If you are against the railing you can see the ride passengers go past I had the Filet Mignon that was delicious The Au Gratin potatoes were tasty but a little spicy My husband had the Beef Strip Lion which he did not enjoy My son enjoyed the surf and turf and my daughter enjoyed the citrus marinated chicken All in all the experience was neat but I dont know that I would return Once was enoughWe did however enjoy our dinner at two different places in Downtown Disney One was the Mexican place Tortilla Jos  we ate outside which was very nice and the food was very good and the servings were of good size  We also ate at Naples Ristorante e Pizzeria  We enjoyed the individual size pizzas and drinks the peach cobbles cocktail was delicious Both restaurants were very enjoyable and we would definitely return We didnt have reservations for either The wait for the Mexican restaurant was about 20 minutes for outside if you wanted inside it was about a 2 hour wait We only waited about 20 minutes for the Pizza place as well We also ate at 2 of our go to places  ESPN and Rainforrest always goodThere were some cons to our adventureThey dont seem to have it together as well as the Disneyworld ParkIt wasnt as organized It isnt as clean and there arent as many staff around to help or ask questions All in all we had a great time I would have to say that my favorite is still the Disney parks in Florida however they both have their good and bad I can definitely say I had a very good time its Disney I would have preferred lesser crowds I really didnt like how many people were there at times it was claustrophobic But I would definitely recommend others to visit and I would love to return some day\n",
      "\n",
      " Most negative:  I recently spent 4 days at both Disney Parks with 3 children and we also stayed in a Disney Hotel Davy Crockett Ranch so I feel justified in writing a review The experience was quite simply atrocious I mean absolutely abysmal I build product teams for a living and if I had been involved in putting out such a sub par product I would be ashamed Here is a brief list of the problems   1 Rides that were closed Aerosmith roller coaster closed Animagique closed Star Wars ride closed Thunder Mountain closed Big Mesa Waterboat closed Peter Pan Ride closed Pirate Island playground closed Pocahontas playground Future land train station closed Swiss Family Robinson closed Andy RC racer closed Pizza Planet closed Agrabah cafe closed Horse Drawn a arrives closed Main Street train closedFuete Restaurant Closed2 Rides that broke down Disney Juniors broke down 30 seconds before the startliterally 30 seconds with no apology and nearly 100 crying kids who had waited for upwards of an hour Ratatouille ride broke down after 40 minute wait Slinky roller coaster closed early at 4pm Magic carpets fast pass machine out of order Monsters Inc scream o meter out of order Magic Carpet ride   three of the carpets malfunctioned and refused to rise parents had to complain 80 minute wait for Nemo roller coaster and no fast pass available 3 Issues with meals   eating Restaurant booking system broke down across the park on Tues 5th meaning could not make reservations to use meal tickets Restaurant reservations were only taken in person in the restaurantgenius idea except Davy Crockett ranch is 5 miles from the park The team time snack for Disney Studios is redeemable in only one restaurant which had counters closed during the peak period of 3 6 with an average 20 minute wait Under 3s eat freeexcept at Davy Crockett Ranch where under 3s are given Apple pur  e for the duration of the holiday Saw a customer being refused to trade his baguette for a packet of cornflakes No cornflakes available on third day 4 General criticisms There are more merchandise shops open than rides   that is unacceptable Every restaurant is used a way to sell merchandise which generates awful queues The kids area of Disney Studios Playland is 1 3 of the size of the adults area with tight lanes and steps whilst the adults area Armageddon is wide boulevards Who thought that up No characters to greet people on entry or exit to the park over any of the four days Seriously I mean not one character to greet guests Walked around both parks for 4 days and we saw two characters   Pluto and Marie from Aristocats That is simply unacceptable Summary Without doubt one of the worst experiences of a theme park I have ever had Basically 3 children spent four days looking for mockery mouse and the only place they saw him was on the merchandise you ram down customers throats after the rides break down You should be ashamed\n"
     ]
    }
   ],
   "source": [
    "print(\"Most positive: \", test.iloc[probabilty.T[1].argmax()][\"Review_Text\"])\n",
    "print(\"\\n Most negative: \", test.iloc[probabilty.T[0].argmax()][\"Review_Text\"])"
   ],
   "metadata": {
    "collapsed": false
   }
  },
  {
   "cell_type": "code",
   "execution_count": 31,
   "outputs": [
    {
     "data": {
      "text/plain": "0.9585885486018642"
     },
     "execution_count": 31,
     "metadata": {},
     "output_type": "execute_result"
    }
   ],
   "source": [
    "model.score(x_test, y_test)"
   ],
   "metadata": {
    "collapsed": false
   }
  },
  {
   "cell_type": "code",
   "execution_count": 32,
   "outputs": [],
   "source": [
    "significant_words = ['love','great','easy','old','little','perfect','loves','well','able','car','broke','less','even','waste','disappointed','work','product','money','would','return']"
   ],
   "metadata": {
    "collapsed": false
   }
  },
  {
   "cell_type": "code",
   "execution_count": 33,
   "outputs": [
    {
     "name": "stdout",
     "output_type": "stream",
     "text": [
      "Most positive:  We have just returned from an amazing four night five day stay at Disneyland Paris which was a fantastic family holiday and we all had a great time Disneyland is located in Marne le Vallee Chessy which is around 40 minutes on the RER train services from Paris Gare du Nord Getting there is very simple and around    20 for two adults and one child When using the ticket machines in Gare du Nord you need to have it in change or be prepared to pay by card As we got the Eurostar direct into Paris this was the ideal route for us and it was very easyOnce we got to Marne le Vallee we got the free shuttle bus to our hotel Sequoia Lodge to drop off our bags and collect our park tickets We then walked back to the park through the Disney village which took around fifteen minutes We had a quick stop for lunch in the village before heading down to the main Disneyland Park It   s very easy to find simply follow the crowds walking down then you pass underneath the main Disneyland Hotel where you scan your tickets and you are thereAt the time of our arrival a lot of rides and attractions were closed due to refurbishment for the 25th Anniversary next year but that didn   t really put us off and probably why we got such a good price for our stay during February half term One of the main things closed was the railway which would have been really lovely and a great chance to see the park but that will be one for next time We headed straight up through main street taking time to look through the shop windows and note down a few character meet and greet points before heading through the gorgeous Sleeping Beauty castle and into Fantasyland As it was lunch time it was already pretty busy and queues were quite long but we managed to get on the Mad Hatters Tea Cup ride and the Dumbo Flying Elephant ride     both of which were suitable for my five year oldDue to the rain and all the travelling that morning we decided to walk back to the hotel at this point so we could warm up dry off and unpack We all wanted to see our room too as we had booked a Golden Forest Club room Check in at the hotel was at 3pm and as we were a little early we headed over to the Golden Forest lounge which is perfect It   s exclusively for those staying in a Golden Forest room in the main building and gives you complimentary hot and cold drinks all day We warmed up with hot chocolates which were brought over to us as we relaxed on very comfy sofa   s before heading back over to the main lobby to check in It was very easy to do and we were given two room keys a map showing where the lifts were and our room number We had private check in as well for the Golden Forest rooms which meant we didn   t need to join the queue and our luggage was taken up to the room for usOur room was on the 7th floor and had a fantastic view of the lake We could also see the top of the castle and the Tower of Terror in the studio park which was great Our luggage arrived a few moments after we did so we were able to unpack quickly and explore our room a bit The room was very clean and spacious     more than enough for three people and had two double beds a table and two chairs one bedside cabinet a television and massive chest of drawers which was very handy as well as a kettle Nespresso machine another perk of the Golden Forest rooms and tea coffee Nespresso pods and milk We had three glasses and two coffee cups as well The bathroom area was fantastic with the sink separate to the toilet and bath which we found very helpful We also had lots of hanging space opposite the sink a safe an iron and ironing board under sink storage and a mini fridge which we used to keep drinks cool and was handy for keeping our snacks in the room freshKnowing this I would have brought a bit of milk with me so I could have had a proper cup of tea Tea in Disneyland is horrible so if you want a decent cuppa you can either head to Starbucks in the Disney Village or bring your own     especially if your partial to English Breakfast Tea We only had green tea or Ceylon which was fine but if you are an avid tea drinker and fussy about what you have you really need to bring your own I believe club rooms in all hotels all have a mini fridge The bathroom was very clean and came with a deep but quite narrow bath shower overhead and toilet with plenty of loo roll We also had body soap face soap body lotion 2 bottles of mouse ear shower gel shampoo and conditioner These were topped up every day as were the Nespresso pods and milk I can not fault our room really it was cleaned every single day the beds made toiletries topped up and it was very comfortable The window didn   t open very wide for health and safety reasons and all the rooms have hot and cold air conditioning which doesn   t work if the window is open The water in the room was    soft    and baths took quite a long time to runThe rest of our holiday was spent taking full advantage of everything we could and getting around both the Disneyland Park and the Studios Park We will be returning to do everything we missed The main Disneyland Park has different themed lands which include Main Street USA Frontier land Fantasy Land Adventure Land and Discovery Land Discovery and Fantasyland are the two areas open during the extra magic hours from 8am and are exclusive to Disney hotel guests and those with particular annual passes From 10am when the park opens to the general public it gets very busy The extra magic hours for us were used to meet some characters and go on a few rides Some shops are open most opening from 9am and the rest from between 10 11am On weekdays the park closes at 8pm and at the weekends it closes between 9 10pm   or at least it did during February this is subject to change depending on the season Rides    There are so many rides across both parks We ended up doing Mad Hatters Teacups Dumbo Ride Carousel Pirates of the Caribbean It   s a Small World Ratatouille Studio Tram Tour Zig Zag Spin and my partner braved Space Mountain on his own We did a few of these more than once depending on wait time especially Ratatouille which is a 3D ride in the Studio Park and is incredibly clever We loved it All of these were suitable for my five year old daughter as well however next time we really want to try and go on a few more rides Sadly Big Thunder Mountain was closed for refurbishment so we will be returning for that Shows    At the moment the themed show was Forest of Enchantment which features a range of characters from Tangled The Jungle Book Brave Pocahontas and Tarzan The parade was on every single day at 530pm and we always managed to get a good spot for this Apparently if you plan to eat in Waltz and grab a window seat you can see the parade as it comes down Main Street whilst having something to eat Other shows in the Studio Park include Car Stunt Show Stitch Live and Disney Junior Live We missed out on Cinemagique and Animagique has now finishedCharacter Meet and Greets    We managed to see a great deal of characters whilst we were at Disneyland and it is worth trying to queue early it possible as the queues get very long The characters change every 30 minutes at certain spots so if you don   t like who is there come back in a bit or ask the cast member who is scheduled for what time that day so you can meet your favourite characters We met Chip and Dale Minnie and Mickey Goofy and Pluto Snow White Cinderella and Prince Charming Ariel Sleeping Beauty and Jafar We also saw Tweedle Dee and Tweedle Dum but we didn   t join the queue to meet them We were thrilled to find out that characters would be at the hotels too in the morning You can meet characters in both parks so if you want to meet lots of characters I recommend spending a day each in the parks to meet the most They are usually around in the morning until around 3pmCharacter interaction was great we didn   t feel rushed got plenty of photos and autographs My favourite meetings were Chip and Dale who loved my hand made autograph book and Princess Aurora who made my daughter feel really special My daughters favourite was Pluto because he gave her lots of hugs and kisses My partner loved Jafar and I would love to go back at Halloween to meet more villains Character Dining    We did the Princess restaurant which is where we met Cinderella Ariel and Snow White The character interaction was amazing but the food which was French cuisine was a little rich so close to breakfast     our lunch was booked at 12noon but it was really lovely and I would do it again You can also meet characters at Caf   Mickey and Inventions     both of which I would love to do next time we go Inventions which is a buffet restaurant situated in the main Disneyland Hotel has a themed Brunch every Sunday which can have up to 14 characters so if you want to meet lots and get a huge amount of fantastic character photos this is the place to go Shopping    There are so many shops all over Disneyland Both parks have a great range of themed toy shops clothing stores and souvenirs and the village has even more There   s also a fantastic Lego shop We got a few nice little bits to bring home with us to remind us of our trip Some of the shops are very expensive with small cuddly toys being around    16 and Princess Dresses being    60 You can get Lego sets for as little as    4 but the average price seems to be around    20 for a decent sized Lego set Dining    As we had a club room we had free hot and cold drinks in the hotel from 1230pm 1030pm which was so handy as we could take cans of cold drinks away with us for free That meant we didn   t spend any money on drinks except in the two three restaurants we went to On the last day we found we had a couple in our fridge which meant we had drinks for the long journey home sorted aswell We also had free tea time treats from 4pm 6pm in the Golden Forest lounge which included canapes mini sandwiches wraps cakes sweets marshmallows and brownies This was great and filled us up enough that we didn   t need a big dinner every night We did try Annettes Earl of Sandwich and Rainforest Caf   which were all great although drinks can be very expensive being over    3 per drink Most places do meal deals which include two or three courses which is really handy especially for kids Every restaurant in the parks except the meal plan vouchers but not every place in the village does so if you have a meal plan it   s worth checking they accept vouchers before booking a table You can book a table over the phone up to two months in advance except for Caf   Mickey breakfast which you can book two days in advance Hotel Facilities    The hotel was fantastic It had pool tables a kids area a bar with a massive log fire in the middle making it really cosy two restaurants a swimming pool plenty of working lifts in the main building 24 hour reception and a shop The golden forest lounge was perfect and meant we had a hot buffet breakfast and didn   t need to book a time slot so could go whenever we wanted to The swimming pool was quite cold but we had fun with the water slide Armbands and floats are around too so you don   t need to worry about those Pool towels are handed out but they   re very small as is the changing area There   s also a steam room and Jacuzzi Overall we had a fantastic holiday and we are already planning to go again next October for Halloween and for the 25th Anniversary celebrations We want to meet more characters and we would be looking to stay in the Newport Bay hotel this time as it looked beautiful I would always consider a club room in the future because if the amount of money we saved on drinks and eating out all the time Our club room in the Sequoia Lodge hotel for four nights five days park tickets and dinner with Disney Princesses cost   877\n",
      "\n",
      "Most negative:  Please read all of this review it   s written as a parent who went to DLRP with open eyes not a grown adult with the mentality of a six year old We paid a lot of money for our stay there my wife I and our 6 year old daughter and there are many things wrong with the resort than are right I don   t know where to start so I   ll get the obvious out of the way first but I   ll come back to one point Firstly queues are going to be a given and they are going to be long end of Secondly prices anybody who goes to DLRP and doesn   t or even does expect it to be expensive is deluding themselves and there   s no point in complaining about it that   s the way it is end of get used to it they want your money and you   ll give it to them you already haveOK the gripes Firstly 999 of the staff look miserable bored and sullen and can be rude They really haven   t taken on the Disney customer service ethos It   s difficult to find one who smiles I saw two or three they don   t try to make eye contact or speak English which reminds me of another point thank you They are there doing their job they get paid minimum wage and generally give minimum service The two we had good experiences of went out of their way to help us and we were very grateful for their help but they were the exceptions rather than the norm Secondly the park looks old dated tatty and a bit worn out OK it   s been open 21 years but it doesn   t look like some of the park hasn   t had a lick of paint since it was opened The toilets show the signs of well used toilets often smelly and wet underfoot I can   t speak for the ladies obviously but regular checks seem to be lackingThirdly DLRP apparently has a    No smoking    rule in the park this is woefully disregarded and completely unenforced Why grown people want to walk around a theme park designed for the enjoyment of children either holding a burning cigarette at child head height or waving it about or even whilst waiting in the queues is really beyond me if you NEED to smoke go out of the park and do it there for Gods sake we observed cigarette ends everywhere and I mean everywhere it looks disgusting we even saw children playing with them which ok is the parents fault for not stopping them but if they weren   t there in the first place problem solved The smoking issue also cast a dark shadow on our holiday when one of our neighbours across the channel waved his cigarette around burning our daughters brand new Disney toy this might seem trivial but for one thing it cost 26euros and was ruined and secondly if she hadn   t been holding the toy the way she was his cigarette would have burned its way into her eye Smoking in such a crowded park is an issue DLRP needs to address Fourthly queues again and rides DLRP seems to have taken    how to make things not be seen    lessons from the SAS short queues are deceiving the real queue is generally hidden from view round a corner until you are actually committed to be in it The times shown are completely inaccurate for example the waiting time for the    Tower of terror    was shown to be 35mins when in fact it was probably twice that long the    fast pass    system for that ride had been closed so it was decided that there was no time for it The queue for    Crush   s Coaster    ride was 80mins long again too long for a six year old to stand in DLRP needs to put some sort of entertainment in place for the long queues it was suggested in another review that some video screens showing cartoons in the longer queues might be the way forward and I agree The rides seemed to be poorly maintained    Thunder mountain    broke down while we were there and this is apparently a regular thing and often a waste of time we queued for near on an hour to go on the    Cars rally    ride half of the ride   s cars were out of operation and the safety checks for the ride actually lasted longer than the ride itself The Carousel de Lancelot although there was no queue only lasted a turn and a half again nowhere near as long as the safety checks You need to be paying attention if there are any announcements they will always be in French first and rushed English second if at all the first attraction we went through the spoken parts were completely in French luckily the queen of hearts really only said one thing so we could guess but our six year old daughter We also took in the stunt show in the studio the cast members seemed to sometimes forget that they weren   t catering to a completely French audience forgetting at times to translate and blabbering away in French while the English were left to guess what they were saying There was also one point when Lightning McQueen turned up Mater was on the big screen talking in French while Lightning spoke English what was the point of that When we went to the    Armageddon    attraction the cast member decided that because there were more French people than any other race in our group she would talk solely French and we were left to read the screens to find out what was going on the attraction turned out to be THE biggest waste of time avoid it at all costs it really is time best spent elsewhere probably the queue for another ride DLRP needs to decided which language it wants to use and stick to itThe good points were the parades which our daughter really enjoyed and the    Disney dreams    show at park closing time which was utterly magical but you need to get there well on time to appreciate again however it was a mix of French and English talking which seemed a bit pointless The people who say this resort is a magical wonderful place are either obviously really easily pleased and as I have said have the mentality of a six year old or have too much bloody money and don   t care about its failings Disney should have walked away from this place when it had the chance This review will be followed up by an email to DLRP which if their cast member   s attitudes are anything to go by will be promptly deleted\n"
     ]
    },
    {
     "data": {
      "text/plain": "0.9102529960053263"
     },
     "execution_count": 33,
     "metadata": {},
     "output_type": "execute_result"
    }
   ],
   "source": [
    "vectorizer_small = CountVectorizer(vocabulary=significant_words)\n",
    "\n",
    "x_small = vectorizer_small.fit_transform(list(train[\"Review_Text\"]))\n",
    "y_small = train[\"Rating\"]\n",
    "x_test_small = vectorizer_small.transform(list(test[\"Review_Text\"]))\n",
    "y_test_small = test[\"Rating\"]\n",
    "light_model = LogisticRegression()\n",
    "light_model.fit(x_small, y_small)\n",
    "proba = light_model.predict_proba(x_test_small)\n",
    "print(\"Most positive: \", test.iloc[proba.T[1].argmax()][\"Review_Text\"])\n",
    "print(\"\\nMost negative: \", test.iloc[proba.T[0].argmax()][\"Review_Text\"])\n",
    "light_model.score(x_test_small, y_test_small)"
   ],
   "metadata": {
    "collapsed": false
   }
  },
  {
   "cell_type": "code",
   "execution_count": 34,
   "outputs": [
    {
     "name": "stdout",
     "output_type": "stream",
     "text": [
      "love: 0.8085222526541562\n",
      "great: 0.955370536372613\n",
      "easy: 0.8168174300883709\n",
      "old: -0.07773904581399672\n",
      "little: 0.34249489819952866\n",
      "perfect: 1.506179489073232\n",
      "loves: 0.2709680720903975\n",
      "well: 0.24098105144052623\n",
      "able: 0.3931337381140211\n",
      "car: -0.21453935078209396\n",
      "broke: -1.3898222199306463\n",
      "less: -0.11925435083628011\n",
      "even: -0.4993623842298293\n",
      "waste: -1.4150801016694448\n",
      "disappointed: -1.3154438135647366\n",
      "work: -0.5481820715531313\n",
      "product: -1.7759242421656691\n",
      "money: -1.2346762463212277\n",
      "would: -0.2964575273671813\n",
      "return: -0.25958838067937956\n"
     ]
    }
   ],
   "source": [
    "for word, coef in zip(vectorizer_small.get_feature_names_out(), light_model.coef_[0]):\n",
    "    print(f\"{word}: {coef}\")"
   ],
   "metadata": {
    "collapsed": false
   }
  },
  {
   "cell_type": "code",
   "execution_count": 35,
   "outputs": [
    {
     "name": "stdout",
     "output_type": "stream",
     "text": [
      "Light model - 0.9102529960053263\n",
      "Standard model - 0.9585885486018642\n"
     ]
    }
   ],
   "source": [
    "print(f\"Light model - {light_model.score(x_test_small, y_test_small)}\")\n",
    "print(f\"Standard model - {model.score(x_test, y_test)}\")"
   ],
   "metadata": {
    "collapsed": false
   }
  },
  {
   "cell_type": "code",
   "execution_count": 39,
   "outputs": [
    {
     "name": "stdout",
     "output_type": "stream",
     "text": [
      "158 µs ± 4.73 µs per loop (mean ± std. dev. of 7 runs, 10,000 loops each)\n",
      "CPU times: total: 12.7 s\n",
      "Wall time: 13.6 s\n"
     ]
    }
   ],
   "source": [
    "%%time\n",
    "%%timeit\n",
    "light_model.predict(x_test_small)"
   ],
   "metadata": {
    "collapsed": false
   }
  },
  {
   "cell_type": "code",
   "execution_count": 40,
   "outputs": [
    {
     "name": "stdout",
     "output_type": "stream",
     "text": [
      "3.07 ms ± 1.28 ms per loop (mean ± std. dev. of 7 runs, 100 loops each)\n",
      "CPU times: total: 2.03 s\n",
      "Wall time: 2.44 s\n"
     ]
    }
   ],
   "source": [
    "%%time\n",
    "%%timeit\n",
    "model.predict(x_test)"
   ],
   "metadata": {
    "collapsed": false
   }
  },
  {
   "cell_type": "code",
   "execution_count": null,
   "outputs": [],
   "source": [],
   "metadata": {
    "collapsed": false
   }
  }
 ],
 "metadata": {
  "kernelspec": {
   "display_name": "Python 3",
   "language": "python",
   "name": "python3"
  },
  "language_info": {
   "codemirror_mode": {
    "name": "ipython",
    "version": 2
   },
   "file_extension": ".py",
   "mimetype": "text/x-python",
   "name": "python",
   "nbconvert_exporter": "python",
   "pygments_lexer": "ipython2",
   "version": "2.7.6"
  }
 },
 "nbformat": 4,
 "nbformat_minor": 0
}
