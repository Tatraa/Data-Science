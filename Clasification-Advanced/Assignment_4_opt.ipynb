{
 "cells": [
  {
   "cell_type": "markdown",
   "source": [
    "# About Dataset\n",
    "The dataset includes 42,000 reviews of 3 Disneyland branches - Paris, California and Hong Kong, posted by visitors on Trip Advisor.\n",
    "\n",
    "Column Description:\n",
    "\n",
    "Review_ID: unique id given to each review\n",
    "Rating: ranging from 1 (unsatisfied) to 5 (satisfied)\n",
    "Year_Month: when the reviewer visited the theme park\n",
    "Reviewer_Location: country of origin of visitor\n",
    "Review_Text: comments made by visitor\n",
    "Disneyland_Branch: location of Disneyland Park"
   ],
   "metadata": {
    "collapsed": false
   }
  },
  {
   "cell_type": "code",
   "execution_count": 1,
   "outputs": [
    {
     "data": {
      "text/plain": "   Review_ID  Rating Year_Month     Reviewer_Location  \\\n0  670772142       4     2019-4             Australia   \n1  670682799       4     2019-5           Philippines   \n2  670623270       4     2019-4  United Arab Emirates   \n3  670607911       4     2019-4             Australia   \n4  670607296       4     2019-4        United Kingdom   \n5  670591897       3     2019-4             Singapore   \n6  670585330       5     2019-4                 India   \n7  670574142       3     2019-3              Malaysia   \n8  670571027       2     2019-4             Australia   \n9  670570869       5     2019-3                 India   \n\n                                         Review_Text               Branch  \n0  If you've ever been to Disneyland anywhere you...  Disneyland_HongKong  \n1  Its been a while since d last time we visit HK...  Disneyland_HongKong  \n2  Thanks God it wasn   t too hot or too humid wh...  Disneyland_HongKong  \n3  HK Disneyland is a great compact park. Unfortu...  Disneyland_HongKong  \n4  the location is not in the city, took around 1...  Disneyland_HongKong  \n5  Have been to Disney World, Disneyland Anaheim ...  Disneyland_HongKong  \n6  Great place! Your day will go by and you won't...  Disneyland_HongKong  \n7  Think of it as an intro to Disney magic for th...  Disneyland_HongKong  \n8  Feel so let down with this place,the Disneylan...  Disneyland_HongKong  \n9  I can go on talking about Disneyland. Whatever...  Disneyland_HongKong  ",
      "text/html": "<div>\n<style scoped>\n    .dataframe tbody tr th:only-of-type {\n        vertical-align: middle;\n    }\n\n    .dataframe tbody tr th {\n        vertical-align: top;\n    }\n\n    .dataframe thead th {\n        text-align: right;\n    }\n</style>\n<table border=\"1\" class=\"dataframe\">\n  <thead>\n    <tr style=\"text-align: right;\">\n      <th></th>\n      <th>Review_ID</th>\n      <th>Rating</th>\n      <th>Year_Month</th>\n      <th>Reviewer_Location</th>\n      <th>Review_Text</th>\n      <th>Branch</th>\n    </tr>\n  </thead>\n  <tbody>\n    <tr>\n      <th>0</th>\n      <td>670772142</td>\n      <td>4</td>\n      <td>2019-4</td>\n      <td>Australia</td>\n      <td>If you've ever been to Disneyland anywhere you...</td>\n      <td>Disneyland_HongKong</td>\n    </tr>\n    <tr>\n      <th>1</th>\n      <td>670682799</td>\n      <td>4</td>\n      <td>2019-5</td>\n      <td>Philippines</td>\n      <td>Its been a while since d last time we visit HK...</td>\n      <td>Disneyland_HongKong</td>\n    </tr>\n    <tr>\n      <th>2</th>\n      <td>670623270</td>\n      <td>4</td>\n      <td>2019-4</td>\n      <td>United Arab Emirates</td>\n      <td>Thanks God it wasn   t too hot or too humid wh...</td>\n      <td>Disneyland_HongKong</td>\n    </tr>\n    <tr>\n      <th>3</th>\n      <td>670607911</td>\n      <td>4</td>\n      <td>2019-4</td>\n      <td>Australia</td>\n      <td>HK Disneyland is a great compact park. Unfortu...</td>\n      <td>Disneyland_HongKong</td>\n    </tr>\n    <tr>\n      <th>4</th>\n      <td>670607296</td>\n      <td>4</td>\n      <td>2019-4</td>\n      <td>United Kingdom</td>\n      <td>the location is not in the city, took around 1...</td>\n      <td>Disneyland_HongKong</td>\n    </tr>\n    <tr>\n      <th>5</th>\n      <td>670591897</td>\n      <td>3</td>\n      <td>2019-4</td>\n      <td>Singapore</td>\n      <td>Have been to Disney World, Disneyland Anaheim ...</td>\n      <td>Disneyland_HongKong</td>\n    </tr>\n    <tr>\n      <th>6</th>\n      <td>670585330</td>\n      <td>5</td>\n      <td>2019-4</td>\n      <td>India</td>\n      <td>Great place! Your day will go by and you won't...</td>\n      <td>Disneyland_HongKong</td>\n    </tr>\n    <tr>\n      <th>7</th>\n      <td>670574142</td>\n      <td>3</td>\n      <td>2019-3</td>\n      <td>Malaysia</td>\n      <td>Think of it as an intro to Disney magic for th...</td>\n      <td>Disneyland_HongKong</td>\n    </tr>\n    <tr>\n      <th>8</th>\n      <td>670571027</td>\n      <td>2</td>\n      <td>2019-4</td>\n      <td>Australia</td>\n      <td>Feel so let down with this place,the Disneylan...</td>\n      <td>Disneyland_HongKong</td>\n    </tr>\n    <tr>\n      <th>9</th>\n      <td>670570869</td>\n      <td>5</td>\n      <td>2019-3</td>\n      <td>India</td>\n      <td>I can go on talking about Disneyland. Whatever...</td>\n      <td>Disneyland_HongKong</td>\n    </tr>\n  </tbody>\n</table>\n</div>"
     },
     "execution_count": 1,
     "metadata": {},
     "output_type": "execute_result"
    }
   ],
   "source": [
    "import pandas as pd\n",
    "import numpy as np\n",
    "import matplotlib.pyplot as plt\n",
    "import string\n",
    "from sklearn.linear_model import LogisticRegression\n",
    "\n",
    "def remove_punctuation(text):\n",
    "    import string\n",
    "    translator = str.maketrans('', '', string.punctuation)\n",
    "    return text.translate(translator)\n",
    "\n",
    "baby_df = pd.read_csv('DisneylandReviews.csv', encoding='latin-1', index_col=False)\n",
    "baby_df.head(10)"
   ],
   "metadata": {
    "collapsed": false
   }
  },
  {
   "cell_type": "code",
   "execution_count": 2,
   "outputs": [
    {
     "data": {
      "text/plain": "False"
     },
     "execution_count": 2,
     "metadata": {},
     "output_type": "execute_result"
    }
   ],
   "source": [
    "baby_df['Review_Text'].isnull().values.any()"
   ],
   "metadata": {
    "collapsed": false
   }
  },
  {
   "cell_type": "markdown",
   "source": [
    "We can observe that we don't have any null values in the dataset, we can proceed with analyzing further"
   ],
   "metadata": {
    "collapsed": false
   }
  },
  {
   "cell_type": "code",
   "execution_count": 4,
   "outputs": [
    {
     "data": {
      "text/plain": "Review_ID             int64\nRating                int64\nYear_Month           object\nReviewer_Location    object\nReview_Text          object\nBranch               object\ndtype: object"
     },
     "execution_count": 4,
     "metadata": {},
     "output_type": "execute_result"
    }
   ],
   "source": [
    "baby_df.dtypes"
   ],
   "metadata": {
    "collapsed": false
   }
  },
  {
   "cell_type": "code",
   "execution_count": 5,
   "outputs": [],
   "source": [
    "baby_df['Review_Text']=baby_df['Review_Text'].astype(str)"
   ],
   "metadata": {
    "collapsed": false
   }
  },
  {
   "cell_type": "code",
   "execution_count": 6,
   "outputs": [
    {
     "data": {
      "text/plain": "True"
     },
     "execution_count": 6,
     "metadata": {},
     "output_type": "execute_result"
    }
   ],
   "source": [
    "baby_df[\"Review_Text\"].replace(np.nan, \"\", inplace=True)\n",
    "#short test:\n",
    "baby_df[\"Review_Text\"][24] == baby_df[\"Review_Text\"][24]"
   ],
   "metadata": {
    "collapsed": false
   }
  },
  {
   "cell_type": "code",
   "execution_count": 7,
   "outputs": [
    {
     "data": {
      "text/plain": "'the location is not in the city took around 1 hour from Kowlon my kids like disneyland so much everything is fine   but its really crowded and hot in Hong Kong'"
     },
     "execution_count": 7,
     "metadata": {},
     "output_type": "execute_result"
    }
   ],
   "source": [
    "baby_df[\"Review_Text\"] = baby_df[\"Review_Text\"].apply(remove_punctuation)\n",
    "baby_df['Review_Text'][4]"
   ],
   "metadata": {
    "collapsed": false
   }
  },
  {
   "cell_type": "code",
   "execution_count": 8,
   "outputs": [
    {
     "data": {
      "text/plain": "0"
     },
     "execution_count": 8,
     "metadata": {},
     "output_type": "execute_result"
    }
   ],
   "source": [
    "a = 0\n",
    "for x in baby_df[\"Rating\"]:\n",
    "\n",
    "    if x == 3:\n",
    "        baby_df.drop(index = a, inplace = True, axis=0)\n",
    "        a=a+1\n",
    "    else:\n",
    "        a=a+1\n",
    "        continue\n",
    "\n",
    "sum(baby_df[\"Rating\"] == 3)"
   ],
   "metadata": {
    "collapsed": false
   }
  },
  {
   "cell_type": "code",
   "execution_count": 9,
   "outputs": [
    {
     "data": {
      "text/plain": "0"
     },
     "execution_count": 9,
     "metadata": {},
     "output_type": "execute_result"
    }
   ],
   "source": [
    "baby_df[\"Rating\"].replace(1,-1, inplace = True)\n",
    "baby_df[\"Rating\"].replace(4,1, inplace = True)\n",
    "baby_df[\"Rating\"].replace(5,1, inplace = True)\n",
    "baby_df[\"Rating\"].replace(2,-1, inplace = True)\n",
    "sum(baby_df[\"Rating\"]**2 != 1)"
   ],
   "metadata": {
    "collapsed": false
   }
  },
  {
   "cell_type": "markdown",
   "source": [
    "After removing all records with rating 3, removing punctuation and assigning records with rating more than 3 to positive and less than 3 to negative, we can hop into CountVectorizer"
   ],
   "metadata": {
    "collapsed": false
   }
  },
  {
   "cell_type": "code",
   "execution_count": 11,
   "outputs": [],
   "source": [
    "from sklearn.model_selection import train_test_split\n",
    "from sklearn.feature_extraction.text import CountVectorizer\n",
    "train, test = train_test_split(baby_df, train_size=0.8, test_size=0.2)"
   ],
   "metadata": {
    "collapsed": false
   }
  },
  {
   "cell_type": "code",
   "execution_count": 12,
   "outputs": [],
   "source": [
    "vectorizer = CountVectorizer()\n",
    "x = vectorizer.fit_transform(list(train[\"Review_Text\"]))\n",
    "y = train[\"Rating\"]\n",
    "x_test = vectorizer.transform(list(test[\"Review_Text\"]))\n",
    "y_test = test[\"Rating\"]"
   ],
   "metadata": {
    "collapsed": false
   }
  },
  {
   "cell_type": "markdown",
   "source": [
    "In the subsequent task, we partition the data into training and test sets. Following that, we convert the words present in the reviews into arrays of numbers (vectors). This process enables us to instruct the program in recognizing specific characteristics of words through numerical representations."
   ],
   "metadata": {
    "collapsed": false
   }
  },
  {
   "cell_type": "code",
   "execution_count": 13,
   "outputs": [
    {
     "name": "stderr",
     "output_type": "stream",
     "text": [
      "C:\\Users\\User\\PycharmProjects\\Data-Science\\venv\\lib\\site-packages\\sklearn\\linear_model\\_logistic.py:460: ConvergenceWarning: lbfgs failed to converge (status=1):\n",
      "STOP: TOTAL NO. of ITERATIONS REACHED LIMIT.\n",
      "\n",
      "Increase the number of iterations (max_iter) or scale the data as shown in:\n",
      "    https://scikit-learn.org/stable/modules/preprocessing.html\n",
      "Please also refer to the documentation for alternative solver options:\n",
      "    https://scikit-learn.org/stable/modules/linear_model.html#logistic-regression\n",
      "  n_iter_i = _check_optimize_result(\n"
     ]
    },
    {
     "data": {
      "text/plain": "LogisticRegression(max_iter=200)",
      "text/html": "<style>#sk-container-id-1 {color: black;}#sk-container-id-1 pre{padding: 0;}#sk-container-id-1 div.sk-toggleable {background-color: white;}#sk-container-id-1 label.sk-toggleable__label {cursor: pointer;display: block;width: 100%;margin-bottom: 0;padding: 0.3em;box-sizing: border-box;text-align: center;}#sk-container-id-1 label.sk-toggleable__label-arrow:before {content: \"▸\";float: left;margin-right: 0.25em;color: #696969;}#sk-container-id-1 label.sk-toggleable__label-arrow:hover:before {color: black;}#sk-container-id-1 div.sk-estimator:hover label.sk-toggleable__label-arrow:before {color: black;}#sk-container-id-1 div.sk-toggleable__content {max-height: 0;max-width: 0;overflow: hidden;text-align: left;background-color: #f0f8ff;}#sk-container-id-1 div.sk-toggleable__content pre {margin: 0.2em;color: black;border-radius: 0.25em;background-color: #f0f8ff;}#sk-container-id-1 input.sk-toggleable__control:checked~div.sk-toggleable__content {max-height: 200px;max-width: 100%;overflow: auto;}#sk-container-id-1 input.sk-toggleable__control:checked~label.sk-toggleable__label-arrow:before {content: \"▾\";}#sk-container-id-1 div.sk-estimator input.sk-toggleable__control:checked~label.sk-toggleable__label {background-color: #d4ebff;}#sk-container-id-1 div.sk-label input.sk-toggleable__control:checked~label.sk-toggleable__label {background-color: #d4ebff;}#sk-container-id-1 input.sk-hidden--visually {border: 0;clip: rect(1px 1px 1px 1px);clip: rect(1px, 1px, 1px, 1px);height: 1px;margin: -1px;overflow: hidden;padding: 0;position: absolute;width: 1px;}#sk-container-id-1 div.sk-estimator {font-family: monospace;background-color: #f0f8ff;border: 1px dotted black;border-radius: 0.25em;box-sizing: border-box;margin-bottom: 0.5em;}#sk-container-id-1 div.sk-estimator:hover {background-color: #d4ebff;}#sk-container-id-1 div.sk-parallel-item::after {content: \"\";width: 100%;border-bottom: 1px solid gray;flex-grow: 1;}#sk-container-id-1 div.sk-label:hover label.sk-toggleable__label {background-color: #d4ebff;}#sk-container-id-1 div.sk-serial::before {content: \"\";position: absolute;border-left: 1px solid gray;box-sizing: border-box;top: 0;bottom: 0;left: 50%;z-index: 0;}#sk-container-id-1 div.sk-serial {display: flex;flex-direction: column;align-items: center;background-color: white;padding-right: 0.2em;padding-left: 0.2em;position: relative;}#sk-container-id-1 div.sk-item {position: relative;z-index: 1;}#sk-container-id-1 div.sk-parallel {display: flex;align-items: stretch;justify-content: center;background-color: white;position: relative;}#sk-container-id-1 div.sk-item::before, #sk-container-id-1 div.sk-parallel-item::before {content: \"\";position: absolute;border-left: 1px solid gray;box-sizing: border-box;top: 0;bottom: 0;left: 50%;z-index: -1;}#sk-container-id-1 div.sk-parallel-item {display: flex;flex-direction: column;z-index: 1;position: relative;background-color: white;}#sk-container-id-1 div.sk-parallel-item:first-child::after {align-self: flex-end;width: 50%;}#sk-container-id-1 div.sk-parallel-item:last-child::after {align-self: flex-start;width: 50%;}#sk-container-id-1 div.sk-parallel-item:only-child::after {width: 0;}#sk-container-id-1 div.sk-dashed-wrapped {border: 1px dashed gray;margin: 0 0.4em 0.5em 0.4em;box-sizing: border-box;padding-bottom: 0.4em;background-color: white;}#sk-container-id-1 div.sk-label label {font-family: monospace;font-weight: bold;display: inline-block;line-height: 1.2em;}#sk-container-id-1 div.sk-label-container {text-align: center;}#sk-container-id-1 div.sk-container {/* jupyter's `normalize.less` sets `[hidden] { display: none; }` but bootstrap.min.css set `[hidden] { display: none !important; }` so we also need the `!important` here to be able to override the default hidden behavior on the sphinx rendered scikit-learn.org. See: https://github.com/scikit-learn/scikit-learn/issues/21755 */display: inline-block !important;position: relative;}#sk-container-id-1 div.sk-text-repr-fallback {display: none;}</style><div id=\"sk-container-id-1\" class=\"sk-top-container\"><div class=\"sk-text-repr-fallback\"><pre>LogisticRegression(max_iter=200)</pre><b>In a Jupyter environment, please rerun this cell to show the HTML representation or trust the notebook. <br />On GitHub, the HTML representation is unable to render, please try loading this page with nbviewer.org.</b></div><div class=\"sk-container\" hidden><div class=\"sk-item\"><div class=\"sk-estimator sk-toggleable\"><input class=\"sk-toggleable__control sk-hidden--visually\" id=\"sk-estimator-id-1\" type=\"checkbox\" checked><label for=\"sk-estimator-id-1\" class=\"sk-toggleable__label sk-toggleable__label-arrow\">LogisticRegression</label><div class=\"sk-toggleable__content\"><pre>LogisticRegression(max_iter=200)</pre></div></div></div></div></div>"
     },
     "execution_count": 13,
     "metadata": {},
     "output_type": "execute_result"
    }
   ],
   "source": [
    "model = LogisticRegression(max_iter=200)\n",
    "model.fit(x, y)"
   ],
   "metadata": {
    "collapsed": false
   }
  },
  {
   "cell_type": "code",
   "execution_count": 14,
   "outputs": [
    {
     "name": "stdout",
     "output_type": "stream",
     "text": [
      "Most positive words:  ['lovely' 'awesome' 'amazing' 'blast' 'longest' 'perfect' 'loved'\n",
      " 'fantastic' 'downside' 'wonderful']\n",
      "Most negative words:  ['worst' 'waste' 'overcrowded' 'boring' 'disappointing' 'miserable' 'poor'\n",
      " 'filthy' 'worse' 'dirty']\n"
     ]
    }
   ],
   "source": [
    "zipped_coef = list(zip(list(range(model.coef_.shape[1])), model.coef_[0]))\n",
    "sorted_coef = sorted(zipped_coef, key= lambda v: v[1])\n",
    "sorted_coef = np.array(sorted_coef)\n",
    "sorted_coef_indexes = sorted_coef[:, 0].astype(int)\n",
    "words = np.array(vectorizer.get_feature_names_out())\n",
    "most_positive_words = words[sorted_coef_indexes[-10:]]\n",
    "most_negative_words = words[sorted_coef_indexes[:10]]\n",
    "print(\"Most positive words: \", most_positive_words)\n",
    "print(\"Most negative words: \", most_negative_words)"
   ],
   "metadata": {
    "collapsed": false
   }
  },
  {
   "cell_type": "code",
   "execution_count": 15,
   "outputs": [
    {
     "data": {
      "text/plain": "array([1, 1, 1, ..., 1, 1, 1], dtype=int64)"
     },
     "execution_count": 15,
     "metadata": {},
     "output_type": "execute_result"
    }
   ],
   "source": [
    "model.predict(x_test)"
   ],
   "metadata": {
    "collapsed": false
   }
  },
  {
   "cell_type": "code",
   "execution_count": 16,
   "outputs": [
    {
     "data": {
      "text/plain": "array([[5.02340122e-03, 9.94976599e-01],\n       [8.39392763e-02, 9.16060724e-01],\n       [1.69032609e-05, 9.99983097e-01],\n       ...,\n       [8.30169874e-03, 9.91698301e-01],\n       [2.05403297e-05, 9.99979460e-01],\n       [4.38171592e-03, 9.95618284e-01]])"
     },
     "execution_count": 16,
     "metadata": {},
     "output_type": "execute_result"
    }
   ],
   "source": [
    "probabilty = model.predict_proba(x_test)\n",
    "probabilty"
   ],
   "metadata": {
    "collapsed": false
   }
  },
  {
   "cell_type": "code",
   "execution_count": 17,
   "outputs": [
    {
     "name": "stdout",
     "output_type": "stream",
     "text": [
      "Most positive:  Our group of 6 recently returned from a 4 night 3 day stay We have 4 children 15 13 9 6 so planning was very important My 9 and 6 year old hadnt been there and my teenagers were young on our last trip so we had a wide range of requests to accommodate TIP 1 Have a plan aheadbut dont be so stuck on it that you lose your mind when things go off the plan because they will We met as a family before to research attractions and made a list by person of the must do attractions We made sure to get those ones done early at park open when wait times were more reasonable Get FASTPASS or MAXPASS so you can book ride times for the in demand ones TIP 2 BUY WATER DRINKS SNACKS ahead of time We picked up 24 bottled waters at Walgreens for 399 The little savings can add up over your trip and saves on another lineTIP 3 EXTRA SHOES Rotate your shoes each day and in case they get wet on Splash Mountain Grizzly River Run they will Over 3 days at the park we walked nearly 50km 30 miles and our feet were very soreTIP 4 I would do 4 days at the parks next time This would give less pressure to do everything in the park and allow more time to shop relax or just go back to the hotel more to swim nap There is a tremendous amount of pressure to see and do everything and Ive seen many child and adult temper tantrums when things get missedTIP 5 Save some money for your kids ahead of time and load on a Disney gift card for them to use throughout the park Great way to budget souvenirs and also easier than cash creditTIP 6 RIDES WILL BREAK On our trip at various times there were 5 breakdowns at various times IF they escort you off the ride or have you leave sorry youre out of luck for that timeBUTif they dont do that wait around and our experiences have been that they often come back on within 10 minutes and youll get way ahead of lines This has worked for before on Radiator Springs Racers Indiana Jones and moreTIP 7 See at least a parade and fireworks while there They are amazing and worth the crowds to see at least once TIP 8 When fireworks parades are on ride times do go down a bit and you can often get on quicker to high demand attractionsTIP 9 Know your family ours are pretty good walkers but they have their limits We had to split off a few times to have some members go back to hotels and others stayed at park TIP 10 FOOD can be pricey but portions are large you can easily split meals We liked having a hotel with free breakfast buffet so that one meal a day was covered in our costsDisneyland can be a pretty overwhelming experience especially if its your first time Staff there is world class and they are there to help so ask Speak to your family ahead of time about waiting in lines and spend some time ahead getting to know their habits better to make the most of trip This can be a truly magical lifetime experience if you plan aheadLastly this trip I took the time to look around and really appreciated the fact that this is one of the only places where you can see people of all cultures laughing and smiling together all sharing in the Magic of this land\n",
      "\n",
      " Most negative:  Were a family with young children so it seemed like a great idea But from the moment we arrived at the airport to the bitter end it was endlessly terrible There is no signage when you get to Charles de Gaulle airport to help you at all So that was a bad start but we worked it outWhen we arrived at the train station again nothing to explain what to do now but again with three small children and suitcases we wandered round the multiple bus stops and worked it outThe buses come every 20 minutes so when ours arrived the huge queue of teenagers piled onto it leaving us and about 30 other people standing there to await this bus to go all the way to the hotel and come back to get us wed been up since 4am to get here and the kids were starting to get very tired etc But with the prospect of getting to the hotel and back to the park we could cope with itWe finally just jumped in a cab and got to our Hotel The Magic Circus I stood with one person in front of me and one person behind the counter for 45 mins waiting to check in Meanwhile several other disgruntled guests came down to complain that the desk were handing out multiple keys to the same room including one family whod had a stranger walk in on his childrenBy now my kids are going spare and the hotel is doing nothing to speed up the check in process at 3pm in the afternoon You would think they might have guessed people would arrive around that timeAfter an hour or so we are checking in and they havent got my booking but give me keys to a room and we will sort out the issue laterWe get to the room change and head back out to wait for the packed bus to take us back to the parkUpon arrival i head off to buy tickets and am directed to an office where Im told that its cheaper to buy annual passports than tickets for all of us for 3 days Im also told to buy a certain level of passport otherwise there are lock out days that we wont be able to get in on So i pay 600 euros for these annual Disney passports for the whole familyThey tell me when we head into the park I have to get the passports validated before 6pm FIne i send the rest of the family off to actually see something in the park whilst i go to get the passports validatedI wait 40 mins in a queue before being told that the whole family must be here to get the passports validated plus as i have my youngest child in a pram i have to leave him there as we is not allowed up the 2 steps to get to the desk to sort out the passports Its a health and safety issueSo i have to go and search the park and drag my tired and upset family back to the passport office queue for another 20 mins before they finally see us take pictures and validate these Eurodisney passportsOk so were finally free to look around the park weve missed the parade the kids are in tears my wifes furious with me because ive been away the whole timeBut we decide to make a fresh start of it and go from hereEvery ride has at least 60 minute queues some 90 mins Even to get a snack or bottle or water we were queueing for 10 to 15 minutesWeve had enough for the day so decide to head home on the horrific bus and go to bed and start again tomorrow A complete waste of time and money so farI try to buy the kids an ice cream but the staff treat you with such contempt that i thought i must have been in the wrong area five people behind the counter chatting to each other whilst i stood in front of them trying to catch their eye when i asked where i should order the ice cream he just scoffed gave his friend the whos this idiot look and said here of course We go back to the hotel for some awful food and to sleepDay 2 get up and head to the park Only to be told that the EuroDisney passports we had been sold yesterday for 600 euros were not valid for the rest of our stay as they were Lock Out daysI nearly hit the roof I found someone who worked there and looked like he actually knew what he was doing I explained that we had been missold these very expensive EuroPassports and that we just wanted to leave now and get a refund  No  Disney doesnt do refundsHe called someone on the walky talky and sorted it that we could get into the park Told us just to go to the entry point and explain they would then check the files and let us inWe walk over to the ticket point  Its a lock out day you cant come in  i know its a lock out day but its on the system to allow us in  we cant access the system Youll have to go all the way over to the other side of the park to get someone else to check it By now I was close to tears the rest of the family way past that pointWe trek over to the other side of the park have the whole conversation again with someone else who now checks the files and lets us inFINALLY WE ARE INBut every ride is again 60 to 90 minute waits to eat at a restaurant you have to book no one tells you this even the awful fast food is a 45 minute waitThey have given us a couple of passes to go up through the exit and get straight on a ride I take the kids on 2 rides we queue 50 mins for a bad hamburgerand leaveThe contempt of the staff the queues the borderline inedible food the terrible atmosphere where people think nothing of yanking your pram out the way to get past the start to finish nightmare that this holiday was has actually made it hard to write this reviewI still get upset when i think of the fact that my familys one holiday of the year was the most appalling experience possible EuroDisney looks great but it is the worst holiday you could ever wish upon your worst enemyOf course not everyone would have this bad a time there but be warned This was a very expensive mistake and has ruined the Disney brand for us and our kids Their movies have such care attention and quality but EuroDisney destroys that all\n"
     ]
    }
   ],
   "source": [
    "print(\"Most positive: \", test.iloc[probabilty.T[1].argmax()][\"Review_Text\"])\n",
    "print(\"\\n Most negative: \", test.iloc[probabilty.T[0].argmax()][\"Review_Text\"])"
   ],
   "metadata": {
    "collapsed": false
   }
  },
  {
   "cell_type": "code",
   "execution_count": 18,
   "outputs": [
    {
     "data": {
      "text/plain": "0.955525965379494"
     },
     "execution_count": 18,
     "metadata": {},
     "output_type": "execute_result"
    }
   ],
   "source": [
    "model.score(x_test, y_test)"
   ],
   "metadata": {
    "collapsed": false
   }
  },
  {
   "cell_type": "raw",
   "source": [
    "Building upon the actions undertaken in task 4, we proceed to identify the opinion containing the highest number of positive words and, conversely, the one with the most negative words. Ultimately, we assess the accuracy of our model, and the results indicate a high level of effectiveness, reaching an accuracy rate of 95%."
   ],
   "metadata": {
    "collapsed": false
   }
  },
  {
   "cell_type": "code",
   "execution_count": 19,
   "outputs": [],
   "source": [
    "significant_words = ['love','great','easy','old','little','perfect','loves','well','able','car','broke','less','even','waste','disappointed','work','product','money','would','return']"
   ],
   "metadata": {
    "collapsed": false
   }
  },
  {
   "cell_type": "code",
   "execution_count": 20,
   "outputs": [
    {
     "name": "stdout",
     "output_type": "stream",
     "text": [
      "Most positive:  This was my 3rd trip to disney since it opened in 1992 This is a great place for all adults seem to love it just as much as the children There really is so much to do When planning a trip to disney plan what you want to do ahead of time and work out how long you plan to stay My last trip was with a friend in Nov 07 and we stayed 3 nightst 4 days This was just the right amount of time in low season as the parks close earlier and being two adults we managed to get around the parks quite quickly and we had time to repeate are favourite rides big thunder mountain x 4 space mountain x 3 We travelled by eurostar which was nice quick and hassle free We stayed on site at the Disney sequoia lodge See separate review This was just the right amount of time to explore the the parks however we did not have time to do a day trip to paris or visit other attrations like the shopping complex near by There is the 2 parks and the Disney Village The disney park takes the most time it is split in to 4 lands you enter on to main street which goes right up to the castle There really is so much to do and in peak seasons and weekends queues can reach over an hour for the top attractions Make use of fast pass on the rides that have them The parades are great espcially fantillusion parade that they do over the summer and some evenings during Nov   Dec during the christmas season some of the best rides in the Disney park are Big thunder mountain Space mountaine pirates of the caribbean Advenureland has an area called adventure isles with caves and rope bridges which are great funFood can be expensive especially at the table service resturants try one of the fast food places like colonel hathis pizza out post a box of pasta and bottle of water was about 900 euros On the last day and had lunch at blue laggon which has a great atmosphere as it is at the start of pirates of the caribbean and really warm so nice in the winter lunch 1 main course pasta and water was about 2000 euros Walt disney studios is a lot smaller than the disney park and takes a lot less time to get around but still has some great rides we spent less than a day in this park we got to the park just before 10 as it was low season and did not open till 10 we went straight to rock in roller coaster for my friend I waited out side We then done the stunt show studio tram tour and crush The stunt show is great even tho is was the same as what they had when I went in 2005 Crush is great we even went back to the studios on are last day just to go on crush for the last time it spins and goes a lot quicker than it looks and is one of my top 3 favourite rides out of both parks the only down side is there is no fast pass and we queued for just over an hour each time Disney village Quite a few places to eat and get a drink we had dinner here each night twice at rainforest cafe as we liked it so much really good food service and excellent cocktails starter main and cocktail was about 3500 euros and then planet hollwood again good service and food very large portions and good cocktails we also had lunch at cafe micky 1 day which was great fun full of characters and good food if you have children this is a great place Soup and a drink was about 1300 eurosNight club was empy with the exception of a few locals this was on a friday night but it was low seasonWe had drinks in the sports bar which had a really nice atmosphere and service was good Shops are every where there are so many diffrent types of soveiners some are expensive but things like the soft toys appeared no diffrent in price than what you would pay in a disney store I have been to disney in the summer and over the bonfire chistmas season both are great Summer benifits from longer opening hours and the additional night parade and fire works Can get very hot Winter the fire works were great for bonfire on the night we were there The christmas decorations and atmosphere were excellant loved the hugh tree at the start of main street and the fake snow that kept falling evey now and then as you walked down main street Just be prepared it was really cold when we went If you like rides you may want to tryBig thunder mountain Space mountaincrush If you dont like rides or have young children you may want to tryPeter pans flightThe maze Adventure Isles Its a small worldA few tips for your visitPrepare for the weather use fast past make a plan for things you want to do eg rides and restaurantsThings can get expensive so plan a budget Food Mainly fast food burgers pizza pasta and salads The table service resturants offer more choice and some offer sides of vegetables Have great time\n",
      "\n",
      "Most negative:  Please read all of this review it   s written as a parent who went to DLRP with open eyes not a grown adult with the mentality of a six year old We paid a lot of money for our stay there my wife I and our 6 year old daughter and there are many things wrong with the resort than are right I don   t know where to start so I   ll get the obvious out of the way first but I   ll come back to one point Firstly queues are going to be a given and they are going to be long end of Secondly prices anybody who goes to DLRP and doesn   t or even does expect it to be expensive is deluding themselves and there   s no point in complaining about it that   s the way it is end of get used to it they want your money and you   ll give it to them you already haveOK the gripes Firstly 999 of the staff look miserable bored and sullen and can be rude They really haven   t taken on the Disney customer service ethos It   s difficult to find one who smiles I saw two or three they don   t try to make eye contact or speak English which reminds me of another point thank you They are there doing their job they get paid minimum wage and generally give minimum service The two we had good experiences of went out of their way to help us and we were very grateful for their help but they were the exceptions rather than the norm Secondly the park looks old dated tatty and a bit worn out OK it   s been open 21 years but it doesn   t look like some of the park hasn   t had a lick of paint since it was opened The toilets show the signs of well used toilets often smelly and wet underfoot I can   t speak for the ladies obviously but regular checks seem to be lackingThirdly DLRP apparently has a    No smoking    rule in the park this is woefully disregarded and completely unenforced Why grown people want to walk around a theme park designed for the enjoyment of children either holding a burning cigarette at child head height or waving it about or even whilst waiting in the queues is really beyond me if you NEED to smoke go out of the park and do it there for Gods sake we observed cigarette ends everywhere and I mean everywhere it looks disgusting we even saw children playing with them which ok is the parents fault for not stopping them but if they weren   t there in the first place problem solved The smoking issue also cast a dark shadow on our holiday when one of our neighbours across the channel waved his cigarette around burning our daughters brand new Disney toy this might seem trivial but for one thing it cost 26euros and was ruined and secondly if she hadn   t been holding the toy the way she was his cigarette would have burned its way into her eye Smoking in such a crowded park is an issue DLRP needs to address Fourthly queues again and rides DLRP seems to have taken    how to make things not be seen    lessons from the SAS short queues are deceiving the real queue is generally hidden from view round a corner until you are actually committed to be in it The times shown are completely inaccurate for example the waiting time for the    Tower of terror    was shown to be 35mins when in fact it was probably twice that long the    fast pass    system for that ride had been closed so it was decided that there was no time for it The queue for    Crush   s Coaster    ride was 80mins long again too long for a six year old to stand in DLRP needs to put some sort of entertainment in place for the long queues it was suggested in another review that some video screens showing cartoons in the longer queues might be the way forward and I agree The rides seemed to be poorly maintained    Thunder mountain    broke down while we were there and this is apparently a regular thing and often a waste of time we queued for near on an hour to go on the    Cars rally    ride half of the ride   s cars were out of operation and the safety checks for the ride actually lasted longer than the ride itself The Carousel de Lancelot although there was no queue only lasted a turn and a half again nowhere near as long as the safety checks You need to be paying attention if there are any announcements they will always be in French first and rushed English second if at all the first attraction we went through the spoken parts were completely in French luckily the queen of hearts really only said one thing so we could guess but our six year old daughter We also took in the stunt show in the studio the cast members seemed to sometimes forget that they weren   t catering to a completely French audience forgetting at times to translate and blabbering away in French while the English were left to guess what they were saying There was also one point when Lightning McQueen turned up Mater was on the big screen talking in French while Lightning spoke English what was the point of that When we went to the    Armageddon    attraction the cast member decided that because there were more French people than any other race in our group she would talk solely French and we were left to read the screens to find out what was going on the attraction turned out to be THE biggest waste of time avoid it at all costs it really is time best spent elsewhere probably the queue for another ride DLRP needs to decided which language it wants to use and stick to itThe good points were the parades which our daughter really enjoyed and the    Disney dreams    show at park closing time which was utterly magical but you need to get there well on time to appreciate again however it was a mix of French and English talking which seemed a bit pointless The people who say this resort is a magical wonderful place are either obviously really easily pleased and as I have said have the mentality of a six year old or have too much bloody money and don   t care about its failings Disney should have walked away from this place when it had the chance This review will be followed up by an email to DLRP which if their cast member   s attitudes are anything to go by will be promptly deleted\n"
     ]
    },
    {
     "data": {
      "text/plain": "0.9071904127829561"
     },
     "execution_count": 20,
     "metadata": {},
     "output_type": "execute_result"
    }
   ],
   "source": [
    "vectorizer_small = CountVectorizer(vocabulary=significant_words)\n",
    "\n",
    "x_small = vectorizer_small.fit_transform(list(train[\"Review_Text\"]))\n",
    "y_small = train[\"Rating\"]\n",
    "x_test_small = vectorizer_small.transform(list(test[\"Review_Text\"]))\n",
    "y_test_small = test[\"Rating\"]\n",
    "light_model = LogisticRegression()\n",
    "light_model.fit(x_small, y_small)\n",
    "proba = light_model.predict_proba(x_test_small)\n",
    "print(\"Most positive: \", test.iloc[proba.T[1].argmax()][\"Review_Text\"])\n",
    "print(\"\\nMost negative: \", test.iloc[proba.T[0].argmax()][\"Review_Text\"])\n",
    "light_model.score(x_test_small, y_test_small)"
   ],
   "metadata": {
    "collapsed": false
   }
  },
  {
   "cell_type": "code",
   "execution_count": 21,
   "outputs": [
    {
     "name": "stdout",
     "output_type": "stream",
     "text": [
      "love: 0.7720431342737724\n",
      "great: 0.9563649861724409\n",
      "easy: 0.9247051988648635\n",
      "old: -0.05017617015704574\n",
      "little: 0.32094910765600554\n",
      "perfect: 1.6335466486284644\n",
      "loves: 0.2446153430380924\n",
      "well: 0.269662285816826\n",
      "able: 0.36090663812647256\n",
      "car: -0.2791029682311213\n",
      "broke: -1.4130458040605405\n",
      "less: -0.1933940843478206\n",
      "even: -0.47922091242520787\n",
      "waste: -1.5271181071944753\n",
      "disappointed: -1.2855433267720395\n",
      "work: -0.5079604029028281\n",
      "product: -1.7074284297219113\n",
      "money: -1.2663530589611804\n",
      "would: -0.3154379473902324\n",
      "return: -0.2341529950904864\n"
     ]
    }
   ],
   "source": [
    "for word, coef in zip(vectorizer_small.get_feature_names_out(), light_model.coef_[0]):\n",
    "    print(f\"{word}: {coef}\")"
   ],
   "metadata": {
    "collapsed": false
   }
  },
  {
   "cell_type": "markdown",
   "source": [
    "Once more, we instruct our program to identify relevant words, but this time we employ a specific dictionary that we have provided. Given that the number of words in the list is less than the total count, we anticipate a potential decrease in prediction accuracy. Additionally, we evaluate the strength or weight assigned to each word at the conclusion of the process."
   ],
   "metadata": {
    "collapsed": false
   }
  },
  {
   "cell_type": "code",
   "execution_count": 22,
   "outputs": [
    {
     "name": "stdout",
     "output_type": "stream",
     "text": [
      "Light model - 0.9071904127829561\n",
      "Standard model - 0.955525965379494\n"
     ]
    }
   ],
   "source": [
    "print(f\"Light model - {light_model.score(x_test_small, y_test_small)}\")\n",
    "print(f\"Standard model - {model.score(x_test, y_test)}\")"
   ],
   "metadata": {
    "collapsed": false
   }
  },
  {
   "cell_type": "code",
   "execution_count": 23,
   "outputs": [
    {
     "name": "stdout",
     "output_type": "stream",
     "text": [
      "168 µs ± 20.1 µs per loop (mean ± std. dev. of 7 runs, 10,000 loops each)\n",
      "CPU times: total: 10.7 s\n",
      "Wall time: 14.2 s\n"
     ]
    }
   ],
   "source": [
    "%%time\n",
    "%%timeit\n",
    "light_model.predict(x_test_small)"
   ],
   "metadata": {
    "collapsed": false
   }
  },
  {
   "cell_type": "code",
   "execution_count": 24,
   "outputs": [
    {
     "name": "stdout",
     "output_type": "stream",
     "text": [
      "3.85 ms ± 1.16 ms per loop (mean ± std. dev. of 7 runs, 100 loops each)\n",
      "CPU times: total: 2.06 s\n",
      "Wall time: 3.1 s\n"
     ]
    }
   ],
   "source": [
    "%%time\n",
    "%%timeit\n",
    "model.predict(x_test)"
   ],
   "metadata": {
    "collapsed": false
   }
  },
  {
   "cell_type": "markdown",
   "source": [
    "Comparing our light model with original model we can observe that original model has around 5 % points better accuracy but with the cost of being around 22 times slower comparing to lighter model."
   ],
   "metadata": {
    "collapsed": false
   }
  },
  {
   "cell_type": "code",
   "execution_count": null,
   "outputs": [],
   "source": [],
   "metadata": {
    "collapsed": false
   }
  }
 ],
 "metadata": {
  "kernelspec": {
   "display_name": "Python 3",
   "language": "python",
   "name": "python3"
  },
  "language_info": {
   "codemirror_mode": {
    "name": "ipython",
    "version": 2
   },
   "file_extension": ".py",
   "mimetype": "text/x-python",
   "name": "python",
   "nbconvert_exporter": "python",
   "pygments_lexer": "ipython2",
   "version": "2.7.6"
  }
 },
 "nbformat": 4,
 "nbformat_minor": 0
}
