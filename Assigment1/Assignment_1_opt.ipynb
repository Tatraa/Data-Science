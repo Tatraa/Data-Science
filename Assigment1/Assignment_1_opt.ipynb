{
 "cells": [
  {
   "cell_type": "code",
   "execution_count": 1,
   "metadata": {
    "collapsed": true
   },
   "outputs": [],
   "source": [
    "import pandas as pd\n",
    "import numpy as np\n",
    "import matplotlib.pyplot as plt"
   ]
  },
  {
   "cell_type": "markdown",
   "source": [
    "##### Dataset: https://www.kaggle.com/datasets/doaaalsenani/usa-cers-dataset/\n",
    "\n",
    "###### US Cars'data was scraped from AUCTION EXPORT.com. This dataset included Information about 28 brands of clean and used vehicles for sale in US. Eleven features were assembled for each car in the dataset.\n",
    "-   __Price__\t-Integer-\tThe sale price of the vehicle in the ad\n",
    "-   __Years__\t-Integer-\tThe vehicle registration year\n",
    "-   __Brand__\t-String-\tThe brand of car\n",
    "-   __Model__\t-String-\tmodel of the vehicle\n",
    "-   __Color__\t-String-\tColor of the vehicle\n",
    "-   __State/City__\t-String-_\tThe location in which the car is being available for purchase\n",
    "-   __Mileage__\t-Float-\tmiles traveled by vehicle\n",
    "-   __Vin__\t-String-\tThe vehicle identification number is a collection of 17 characters (digits and capital letters)\n",
    "-   __Title Status__\t-String-\tThis feature included binary classification, which are clean title vehicles and salvage insurance\n",
    "-   __Lot__ -Integer-\tA lot number is an identification number assigned to a particular quantity or lot of material from a single manufacturer.For cars, a lot number is combined with a serial number to form the Vehicle Identification Number.\n",
    "-   __Condition__\t-String-\tTime"
   ],
   "metadata": {
    "collapsed": false
   }
  },
  {
   "cell_type": "code",
   "execution_count": 3,
   "outputs": [
    {
     "data": {
      "text/plain": "    Unnamed: 0  price      brand    model  year   title_status   mileage  \\\n0            0   6300     toyota  cruiser  2008  clean vehicle  274117.0   \n1            1   2899       ford       se  2011  clean vehicle  190552.0   \n2            2   5350      dodge      mpv  2018  clean vehicle   39590.0   \n3            3  25000       ford     door  2014  clean vehicle   64146.0   \n4            4  27700  chevrolet     1500  2018  clean vehicle    6654.0   \n5            5   5700      dodge      mpv  2018  clean vehicle   45561.0   \n6            6   7300  chevrolet       pk  2010  clean vehicle  149050.0   \n7            7  13350        gmc     door  2017  clean vehicle   23525.0   \n8            8  14600  chevrolet   malibu  2018  clean vehicle    9371.0   \n9            9   5250       ford      mpv  2017  clean vehicle   63418.0   \n10          10  10400      dodge    coupe  2009  clean vehicle  107856.0   \n11          11  12920        gmc      mpv  2017  clean vehicle   39650.0   \n12          12  31900  chevrolet     1500  2018  clean vehicle   22909.0   \n13          13   5430   chrysler    wagon  2017  clean vehicle  138650.0   \n14          14  20700       ford     door  2013  clean vehicle  100757.0   \n15          15  12710        gmc     door  2017  clean vehicle   25747.0   \n16          16   5200        kia    forte  2018  clean vehicle   46194.0   \n17          17  16500      buick   encore  2018  clean vehicle   20002.0   \n18          18   5210       ford      mpv  2017  clean vehicle   35714.0   \n19          19  38100       ford     door  2013  clean vehicle   54380.0   \n\n     color                  vin        lot           state country  \\\n0    black    jtezu11f88k007763  159348797      new jersey     usa   \n1   silver    2fmdk3gc4bbb02217  166951262       tennessee     usa   \n2   silver    3c4pdcgg5jt346413  167655728         georgia     usa   \n3     blue    1ftfw1et4efc23745  167753855        virginia     usa   \n4      red    3gcpcrec2jg473991  167763266         florida     usa   \n5    white    2c4rdgeg9jr237989  167655771           texas     usa   \n6    black    1gcsksea1az121133  167753872         georgia     usa   \n7     gray    1gks2gkc3hr326762  167692494      california     usa   \n8   silver    1g1zd5st5jf191860  167763267         florida     usa   \n9    black    2fmpk3j92hbc12542  167656121           texas     usa   \n10  orange    2b3lj54t49h509675  167753874         georgia     usa   \n11   white    1gks2bkc6hr136280  167692496      california     usa   \n12   black    3gcukrec0jg176059  167763273       tennessee     usa   \n13    gray    2c4rc1cg5hr616095  167656123           texas     usa   \n14   black    1ftfw1et7dfa47790  167753916        virginia     usa   \n15   white    1gks2gkc6hr328389  167692497      california     usa   \n16    blue    3kpfk4a77je198723  167801757  north carolina     usa   \n17     red    kl4cj1sb6jb688844  167763275       tennessee     usa   \n18   white    2fmpk3j95hbb73607  167656124           texas     usa   \n19    gray    1ft8w3dt5deb68569  167753923        virginia     usa   \n\n        condition  \n0    10 days left  \n1     6 days left  \n2     2 days left  \n3   22 hours left  \n4   22 hours left  \n5     2 days left  \n6   22 hours left  \n7   20 hours left  \n8   22 hours left  \n9     2 days left  \n10  22 hours left  \n11  20 hours left  \n12  22 hours left  \n13    2 days left  \n14  22 hours left  \n15  20 hours left  \n16    2 days left  \n17  22 hours left  \n18    2 days left  \n19  22 hours left  ",
      "text/html": "<div>\n<style scoped>\n    .dataframe tbody tr th:only-of-type {\n        vertical-align: middle;\n    }\n\n    .dataframe tbody tr th {\n        vertical-align: top;\n    }\n\n    .dataframe thead th {\n        text-align: right;\n    }\n</style>\n<table border=\"1\" class=\"dataframe\">\n  <thead>\n    <tr style=\"text-align: right;\">\n      <th></th>\n      <th>Unnamed: 0</th>\n      <th>price</th>\n      <th>brand</th>\n      <th>model</th>\n      <th>year</th>\n      <th>title_status</th>\n      <th>mileage</th>\n      <th>color</th>\n      <th>vin</th>\n      <th>lot</th>\n      <th>state</th>\n      <th>country</th>\n      <th>condition</th>\n    </tr>\n  </thead>\n  <tbody>\n    <tr>\n      <th>0</th>\n      <td>0</td>\n      <td>6300</td>\n      <td>toyota</td>\n      <td>cruiser</td>\n      <td>2008</td>\n      <td>clean vehicle</td>\n      <td>274117.0</td>\n      <td>black</td>\n      <td>jtezu11f88k007763</td>\n      <td>159348797</td>\n      <td>new jersey</td>\n      <td>usa</td>\n      <td>10 days left</td>\n    </tr>\n    <tr>\n      <th>1</th>\n      <td>1</td>\n      <td>2899</td>\n      <td>ford</td>\n      <td>se</td>\n      <td>2011</td>\n      <td>clean vehicle</td>\n      <td>190552.0</td>\n      <td>silver</td>\n      <td>2fmdk3gc4bbb02217</td>\n      <td>166951262</td>\n      <td>tennessee</td>\n      <td>usa</td>\n      <td>6 days left</td>\n    </tr>\n    <tr>\n      <th>2</th>\n      <td>2</td>\n      <td>5350</td>\n      <td>dodge</td>\n      <td>mpv</td>\n      <td>2018</td>\n      <td>clean vehicle</td>\n      <td>39590.0</td>\n      <td>silver</td>\n      <td>3c4pdcgg5jt346413</td>\n      <td>167655728</td>\n      <td>georgia</td>\n      <td>usa</td>\n      <td>2 days left</td>\n    </tr>\n    <tr>\n      <th>3</th>\n      <td>3</td>\n      <td>25000</td>\n      <td>ford</td>\n      <td>door</td>\n      <td>2014</td>\n      <td>clean vehicle</td>\n      <td>64146.0</td>\n      <td>blue</td>\n      <td>1ftfw1et4efc23745</td>\n      <td>167753855</td>\n      <td>virginia</td>\n      <td>usa</td>\n      <td>22 hours left</td>\n    </tr>\n    <tr>\n      <th>4</th>\n      <td>4</td>\n      <td>27700</td>\n      <td>chevrolet</td>\n      <td>1500</td>\n      <td>2018</td>\n      <td>clean vehicle</td>\n      <td>6654.0</td>\n      <td>red</td>\n      <td>3gcpcrec2jg473991</td>\n      <td>167763266</td>\n      <td>florida</td>\n      <td>usa</td>\n      <td>22 hours left</td>\n    </tr>\n    <tr>\n      <th>5</th>\n      <td>5</td>\n      <td>5700</td>\n      <td>dodge</td>\n      <td>mpv</td>\n      <td>2018</td>\n      <td>clean vehicle</td>\n      <td>45561.0</td>\n      <td>white</td>\n      <td>2c4rdgeg9jr237989</td>\n      <td>167655771</td>\n      <td>texas</td>\n      <td>usa</td>\n      <td>2 days left</td>\n    </tr>\n    <tr>\n      <th>6</th>\n      <td>6</td>\n      <td>7300</td>\n      <td>chevrolet</td>\n      <td>pk</td>\n      <td>2010</td>\n      <td>clean vehicle</td>\n      <td>149050.0</td>\n      <td>black</td>\n      <td>1gcsksea1az121133</td>\n      <td>167753872</td>\n      <td>georgia</td>\n      <td>usa</td>\n      <td>22 hours left</td>\n    </tr>\n    <tr>\n      <th>7</th>\n      <td>7</td>\n      <td>13350</td>\n      <td>gmc</td>\n      <td>door</td>\n      <td>2017</td>\n      <td>clean vehicle</td>\n      <td>23525.0</td>\n      <td>gray</td>\n      <td>1gks2gkc3hr326762</td>\n      <td>167692494</td>\n      <td>california</td>\n      <td>usa</td>\n      <td>20 hours left</td>\n    </tr>\n    <tr>\n      <th>8</th>\n      <td>8</td>\n      <td>14600</td>\n      <td>chevrolet</td>\n      <td>malibu</td>\n      <td>2018</td>\n      <td>clean vehicle</td>\n      <td>9371.0</td>\n      <td>silver</td>\n      <td>1g1zd5st5jf191860</td>\n      <td>167763267</td>\n      <td>florida</td>\n      <td>usa</td>\n      <td>22 hours left</td>\n    </tr>\n    <tr>\n      <th>9</th>\n      <td>9</td>\n      <td>5250</td>\n      <td>ford</td>\n      <td>mpv</td>\n      <td>2017</td>\n      <td>clean vehicle</td>\n      <td>63418.0</td>\n      <td>black</td>\n      <td>2fmpk3j92hbc12542</td>\n      <td>167656121</td>\n      <td>texas</td>\n      <td>usa</td>\n      <td>2 days left</td>\n    </tr>\n    <tr>\n      <th>10</th>\n      <td>10</td>\n      <td>10400</td>\n      <td>dodge</td>\n      <td>coupe</td>\n      <td>2009</td>\n      <td>clean vehicle</td>\n      <td>107856.0</td>\n      <td>orange</td>\n      <td>2b3lj54t49h509675</td>\n      <td>167753874</td>\n      <td>georgia</td>\n      <td>usa</td>\n      <td>22 hours left</td>\n    </tr>\n    <tr>\n      <th>11</th>\n      <td>11</td>\n      <td>12920</td>\n      <td>gmc</td>\n      <td>mpv</td>\n      <td>2017</td>\n      <td>clean vehicle</td>\n      <td>39650.0</td>\n      <td>white</td>\n      <td>1gks2bkc6hr136280</td>\n      <td>167692496</td>\n      <td>california</td>\n      <td>usa</td>\n      <td>20 hours left</td>\n    </tr>\n    <tr>\n      <th>12</th>\n      <td>12</td>\n      <td>31900</td>\n      <td>chevrolet</td>\n      <td>1500</td>\n      <td>2018</td>\n      <td>clean vehicle</td>\n      <td>22909.0</td>\n      <td>black</td>\n      <td>3gcukrec0jg176059</td>\n      <td>167763273</td>\n      <td>tennessee</td>\n      <td>usa</td>\n      <td>22 hours left</td>\n    </tr>\n    <tr>\n      <th>13</th>\n      <td>13</td>\n      <td>5430</td>\n      <td>chrysler</td>\n      <td>wagon</td>\n      <td>2017</td>\n      <td>clean vehicle</td>\n      <td>138650.0</td>\n      <td>gray</td>\n      <td>2c4rc1cg5hr616095</td>\n      <td>167656123</td>\n      <td>texas</td>\n      <td>usa</td>\n      <td>2 days left</td>\n    </tr>\n    <tr>\n      <th>14</th>\n      <td>14</td>\n      <td>20700</td>\n      <td>ford</td>\n      <td>door</td>\n      <td>2013</td>\n      <td>clean vehicle</td>\n      <td>100757.0</td>\n      <td>black</td>\n      <td>1ftfw1et7dfa47790</td>\n      <td>167753916</td>\n      <td>virginia</td>\n      <td>usa</td>\n      <td>22 hours left</td>\n    </tr>\n    <tr>\n      <th>15</th>\n      <td>15</td>\n      <td>12710</td>\n      <td>gmc</td>\n      <td>door</td>\n      <td>2017</td>\n      <td>clean vehicle</td>\n      <td>25747.0</td>\n      <td>white</td>\n      <td>1gks2gkc6hr328389</td>\n      <td>167692497</td>\n      <td>california</td>\n      <td>usa</td>\n      <td>20 hours left</td>\n    </tr>\n    <tr>\n      <th>16</th>\n      <td>16</td>\n      <td>5200</td>\n      <td>kia</td>\n      <td>forte</td>\n      <td>2018</td>\n      <td>clean vehicle</td>\n      <td>46194.0</td>\n      <td>blue</td>\n      <td>3kpfk4a77je198723</td>\n      <td>167801757</td>\n      <td>north carolina</td>\n      <td>usa</td>\n      <td>2 days left</td>\n    </tr>\n    <tr>\n      <th>17</th>\n      <td>17</td>\n      <td>16500</td>\n      <td>buick</td>\n      <td>encore</td>\n      <td>2018</td>\n      <td>clean vehicle</td>\n      <td>20002.0</td>\n      <td>red</td>\n      <td>kl4cj1sb6jb688844</td>\n      <td>167763275</td>\n      <td>tennessee</td>\n      <td>usa</td>\n      <td>22 hours left</td>\n    </tr>\n    <tr>\n      <th>18</th>\n      <td>18</td>\n      <td>5210</td>\n      <td>ford</td>\n      <td>mpv</td>\n      <td>2017</td>\n      <td>clean vehicle</td>\n      <td>35714.0</td>\n      <td>white</td>\n      <td>2fmpk3j95hbb73607</td>\n      <td>167656124</td>\n      <td>texas</td>\n      <td>usa</td>\n      <td>2 days left</td>\n    </tr>\n    <tr>\n      <th>19</th>\n      <td>19</td>\n      <td>38100</td>\n      <td>ford</td>\n      <td>door</td>\n      <td>2013</td>\n      <td>clean vehicle</td>\n      <td>54380.0</td>\n      <td>gray</td>\n      <td>1ft8w3dt5deb68569</td>\n      <td>167753923</td>\n      <td>virginia</td>\n      <td>usa</td>\n      <td>22 hours left</td>\n    </tr>\n  </tbody>\n</table>\n</div>"
     },
     "execution_count": 3,
     "metadata": {},
     "output_type": "execute_result"
    }
   ],
   "source": [
    "data = pd.read_csv(\"USA_cars_datasets.csv\")\n",
    "data.head(20)"
   ],
   "metadata": {
    "collapsed": false
   }
  },
  {
   "cell_type": "code",
   "execution_count": 4,
   "outputs": [
    {
     "data": {
      "text/plain": "        Unnamed: 0         price         year       mileage           lot\ncount  2499.000000   2499.000000  2499.000000  2.499000e+03  2.499000e+03\nmean   1249.000000  18767.671469  2016.714286  5.229869e+04  1.676914e+08\nstd     721.543484  12116.094936     3.442656  5.970552e+04  2.038772e+05\nmin       0.000000      0.000000  1973.000000  0.000000e+00  1.593488e+08\n25%     624.500000  10200.000000  2016.000000  2.146650e+04  1.676253e+08\n50%    1249.000000  16900.000000  2018.000000  3.536500e+04  1.677451e+08\n75%    1873.500000  25555.500000  2019.000000  6.347250e+04  1.677798e+08\nmax    2498.000000  84900.000000  2020.000000  1.017936e+06  1.678055e+08",
      "text/html": "<div>\n<style scoped>\n    .dataframe tbody tr th:only-of-type {\n        vertical-align: middle;\n    }\n\n    .dataframe tbody tr th {\n        vertical-align: top;\n    }\n\n    .dataframe thead th {\n        text-align: right;\n    }\n</style>\n<table border=\"1\" class=\"dataframe\">\n  <thead>\n    <tr style=\"text-align: right;\">\n      <th></th>\n      <th>Unnamed: 0</th>\n      <th>price</th>\n      <th>year</th>\n      <th>mileage</th>\n      <th>lot</th>\n    </tr>\n  </thead>\n  <tbody>\n    <tr>\n      <th>count</th>\n      <td>2499.000000</td>\n      <td>2499.000000</td>\n      <td>2499.000000</td>\n      <td>2.499000e+03</td>\n      <td>2.499000e+03</td>\n    </tr>\n    <tr>\n      <th>mean</th>\n      <td>1249.000000</td>\n      <td>18767.671469</td>\n      <td>2016.714286</td>\n      <td>5.229869e+04</td>\n      <td>1.676914e+08</td>\n    </tr>\n    <tr>\n      <th>std</th>\n      <td>721.543484</td>\n      <td>12116.094936</td>\n      <td>3.442656</td>\n      <td>5.970552e+04</td>\n      <td>2.038772e+05</td>\n    </tr>\n    <tr>\n      <th>min</th>\n      <td>0.000000</td>\n      <td>0.000000</td>\n      <td>1973.000000</td>\n      <td>0.000000e+00</td>\n      <td>1.593488e+08</td>\n    </tr>\n    <tr>\n      <th>25%</th>\n      <td>624.500000</td>\n      <td>10200.000000</td>\n      <td>2016.000000</td>\n      <td>2.146650e+04</td>\n      <td>1.676253e+08</td>\n    </tr>\n    <tr>\n      <th>50%</th>\n      <td>1249.000000</td>\n      <td>16900.000000</td>\n      <td>2018.000000</td>\n      <td>3.536500e+04</td>\n      <td>1.677451e+08</td>\n    </tr>\n    <tr>\n      <th>75%</th>\n      <td>1873.500000</td>\n      <td>25555.500000</td>\n      <td>2019.000000</td>\n      <td>6.347250e+04</td>\n      <td>1.677798e+08</td>\n    </tr>\n    <tr>\n      <th>max</th>\n      <td>2498.000000</td>\n      <td>84900.000000</td>\n      <td>2020.000000</td>\n      <td>1.017936e+06</td>\n      <td>1.678055e+08</td>\n    </tr>\n  </tbody>\n</table>\n</div>"
     },
     "execution_count": 4,
     "metadata": {},
     "output_type": "execute_result"
    }
   ],
   "source": [
    "data.describe()"
   ],
   "metadata": {
    "collapsed": false
   }
  },
  {
   "cell_type": "code",
   "execution_count": null,
   "outputs": [],
   "source": [],
   "metadata": {
    "collapsed": false
   }
  }
 ],
 "metadata": {
  "kernelspec": {
   "display_name": "Python 3",
   "language": "python",
   "name": "python3"
  },
  "language_info": {
   "codemirror_mode": {
    "name": "ipython",
    "version": 2
   },
   "file_extension": ".py",
   "mimetype": "text/x-python",
   "name": "python",
   "nbconvert_exporter": "python",
   "pygments_lexer": "ipython2",
   "version": "2.7.6"
  }
 },
 "nbformat": 4,
 "nbformat_minor": 0
}
